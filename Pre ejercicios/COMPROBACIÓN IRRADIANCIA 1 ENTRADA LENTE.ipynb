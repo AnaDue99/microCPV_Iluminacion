{
 "cells": [
  {
   "cell_type": "markdown",
   "id": "519a8dec",
   "metadata": {},
   "source": [
    "# COMRPOBACIÓN IRRADIANCIA 1 W/M2 ENTRADA OPTICA\n",
    "\n"
   ]
  },
  {
   "cell_type": "markdown",
   "id": "74ba6891",
   "metadata": {},
   "source": [
    "Obtenemos primero los datos de este mediante las librerías creadas. En esta versión ya ha sido aplicada una constante para considerar que a la lente llega 1W/m2"
   ]
  },
  {
   "cell_type": "code",
   "execution_count": 1,
   "id": "2f5b4f77",
   "metadata": {},
   "outputs": [],
   "source": [
    "import module_Cell as cell\n",
    "import module_AoiGrids as gr\n",
    "\n",
    "spot=gr.spot_grid(0)"
   ]
  },
  {
   "cell_type": "markdown",
   "id": "f4f7c287",
   "metadata": {},
   "source": [
    "Pintando el dibujo tenemos:"
   ]
  },
  {
   "cell_type": "code",
   "execution_count": 2,
   "id": "ec68ae18",
   "metadata": {
    "scrolled": false
   },
   "outputs": [
    {
     "data": {
      "image/png": "[encoded data removed]",
      "text/plain": [
       "<Figure size 432x288 with 2 Axes>"
      ]
     },
     "metadata": {},
     "output_type": "display_data"
    }
   ],
   "source": [
    "gr.plot_grid(\"aoi\",spot)"
   ]
  },
  {
   "cell_type": "markdown",
   "id": "e082ce32",
   "metadata": {},
   "source": [
    "Recordarmos que realmente es una matriz de vectores:"
   ]
  },
  {
   "cell_type": "code",
   "execution_count": 3,
   "id": "c5cbdffb",
   "metadata": {
    "scrolled": true
   },
   "outputs": [
    {
     "name": "stdout",
     "output_type": "stream",
     "text": [
      "[[0. 0. 0. ... 0. 0. 0.]\n",
      " [0. 0. 0. ... 0. 0. 0.]\n",
      " [0. 0. 0. ... 0. 0. 0.]\n",
      " ...\n",
      " [0. 0. 0. ... 0. 0. 0.]\n",
      " [0. 0. 0. ... 0. 0. 0.]\n",
      " [0. 0. 0. ... 0. 0. 0.]]\n"
     ]
    }
   ],
   "source": [
    "print(spot)"
   ]
  },
  {
   "cell_type": "markdown",
   "id": "9c804cf6",
   "metadata": {},
   "source": [
    "Cada elemento de la matriz representa la Irradiancia en W/m2 que llega a 0.16mm2 del modulo. En principio la precisión con la que nos han dado los datos es de 0.04mm->0.16mm2 por punto con datos. "
   ]
  },
  {
   "cell_type": "markdown",
   "id": "f6302bf6",
   "metadata": {},
   "source": [
    "Calculamos la potencia por lo tanto:"
   ]
  },
  {
   "cell_type": "code",
   "execution_count": 4,
   "id": "8eff06a7",
   "metadata": {
    "scrolled": true
   },
   "outputs": [
    {
     "name": "stdout",
     "output_type": "stream",
     "text": [
      "Radiación del spot 901.8470583850001 W/m2\n",
      "Potencia para todo el spot 0.00014429552934160003 W\n"
     ]
    }
   ],
   "source": [
    "potencia_spot=spot.sum().sum()*0.16*10**-6\n",
    "print(\"Radiación del spot\", spot.sum(),\"W/m2\")\n",
    "print(\"Potencia para todo el spot\",potencia_spot,\"W\")"
   ]
  },
  {
   "cell_type": "markdown",
   "id": "604cdc60",
   "metadata": {},
   "source": [
    "Asumiendo que la lente es de 179mm2 y tenemos una eficiencia óptica aproximada del 80%. La irradiancia con la que se ha hecho el estudio es de:"
   ]
  },
  {
   "cell_type": "code",
   "execution_count": 5,
   "id": "4b3466cc",
   "metadata": {
    "scrolled": true
   },
   "outputs": [
    {
     "name": "stdout",
     "output_type": "stream",
     "text": [
      "Irradiancia entrante a la lente 1.0076503445642462 W/m2\n"
     ]
    }
   ],
   "source": [
    "irradiancia_entrante=potencia_spot/(179*10**-6*0.8)\n",
    "print(\"Irradiancia entrante a la lente\", irradiancia_entrante,\"W/m2\")"
   ]
  },
  {
   "cell_type": "markdown",
   "id": "3d5f9816",
   "metadata": {},
   "source": [
    "Basandonos en que podemos relacionar la potencia con los lumnes con la constante: 683 lumen/W"
   ]
  },
  {
   "cell_type": "code",
   "execution_count": 6,
   "id": "bf228c6f",
   "metadata": {
    "scrolled": true
   },
   "outputs": [
    {
     "name": "stdout",
     "output_type": "stream",
     "text": [
      "CADA MODULO DE 10 MM NOS APORTA 0.09855384654031282 LUMEN\n"
     ]
    }
   ],
   "source": [
    "Iluminacion=potencia_spot*683\n",
    "print(\"CADA MODULO DE 10 MM NOS APORTA\", Iluminacion,\"LUMEN\")"
   ]
  }
 ],
 "metadata": {
  "kernelspec": {
   "display_name": "Python 3 (ipykernel)",
   "language": "python",
   "name": "python3"
  },
  "language_info": {
   "codemirror_mode": {
    "name": "ipython",
    "version": 3
   },
   "file_extension": ".py",
   "mimetype": "text/x-python",
   "name": "python",
   "nbconvert_exporter": "python",
   "pygments_lexer": "ipython3",
   "version": "3.9.7"
  }
 },
 "nbformat": 4,
 "nbformat_minor": 5
}
