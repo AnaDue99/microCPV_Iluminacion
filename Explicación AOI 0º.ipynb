{
 "cells": [
  {
   "cell_type": "markdown",
   "id": "519a8dec",
   "metadata": {},
   "source": [
    "# EXPLICACIÓN IRRADIANCIA OBTENIDA CON UN ANGULO DE INCIDENCIA DE 0º\n"
   ]
  },
  {
   "cell_type": "markdown",
   "id": "849e0468",
   "metadata": {},
   "source": [
    "El receptor dado es de 20mm de lado, es decir, de 40mm2. Considerando, 1W/m2 de radiación incidente en la optica. Tendremos luego una potencia SIN PERDIDAS DE 40*10^-6 W por receptor en su spot. "
   ]
  },
  {
   "cell_type": "markdown",
   "id": "74ba6891",
   "metadata": {},
   "source": [
    "Obtenemos primero los datos de este mediante las librerías creadas"
   ]
  },
  {
   "cell_type": "code",
   "execution_count": 17,
   "id": "2f5b4f77",
   "metadata": {},
   "outputs": [],
   "source": [
    "import module_Cell as cell\n",
    "import module_AoiGrids as gr\n",
    "\n",
    "spot=gr.spot_grid(0)"
   ]
  },
  {
   "cell_type": "markdown",
   "id": "f4f7c287",
   "metadata": {},
   "source": [
    "Pintando el dibujo tenemos:"
   ]
  },
  {
   "cell_type": "code",
   "execution_count": 18,
   "id": "ec68ae18",
   "metadata": {
    "scrolled": false
   },
   "outputs": [
    {
     "data": {
      "image/png": "[encoded data removed]",
      "text/plain": [
       "<Figure size 432x288 with 2 Axes>"
      ]
     },
     "metadata": {},
     "output_type": "display_data"
    }
   ],
   "source": [
    "gr.plot_grid(\"aoi\",spot)"
   ]
  },
  {
   "cell_type": "markdown",
   "id": "e082ce32",
   "metadata": {},
   "source": [
    "Recordarmos que realmente es una matriz de vectores:"
   ]
  },
  {
   "cell_type": "code",
   "execution_count": 19,
   "id": "c5cbdffb",
   "metadata": {
    "scrolled": true
   },
   "outputs": [
    {
     "name": "stdout",
     "output_type": "stream",
     "text": [
      "[[0. 0. 0. ... 0. 0. 0.]\n",
      " [0. 0. 0. ... 0. 0. 0.]\n",
      " [0. 0. 0. ... 0. 0. 0.]\n",
      " ...\n",
      " [0. 0. 0. ... 0. 0. 0.]\n",
      " [0. 0. 0. ... 0. 0. 0.]\n",
      " [0. 0. 0. ... 0. 0. 0.]]\n"
     ]
    }
   ],
   "source": [
    "print(spot)"
   ]
  },
  {
   "cell_type": "markdown",
   "id": "9c804cf6",
   "metadata": {},
   "source": [
    "Cada elemento de la matriz representa la Irradiancia en W/m2 que llega a 16mm2 del modulo. En principio la precisión con la que nos han dado los datos es de 4mm->16mm2 por punto con datos. "
   ]
  },
  {
   "cell_type": "markdown",
   "id": "f6302bf6",
   "metadata": {},
   "source": [
    "Calculamos la potencia por lo tanto:"
   ]
  },
  {
   "cell_type": "code",
   "execution_count": 21,
   "id": "8eff06a7",
   "metadata": {
    "scrolled": true
   },
   "outputs": [
    {
     "name": "stdout",
     "output_type": "stream",
     "text": [
      "Irradiancia del spot 0.2525171763478 W/m2\n",
      "Potencia para todo el spot 4.0402748215648e-06 W\n"
     ]
    }
   ],
   "source": [
    "potencia_spot=spot.sum().sum()*16*10**-6\n",
    "print(\"Radiación del spot\", spot.sum(),\"W/m2\")\n",
    "print(\"Potencia para todo el spot\",potencia_spot,\"W\")"
   ]
  },
  {
   "cell_type": "markdown",
   "id": "2946244a",
   "metadata": {},
   "source": [
    "## PARA 10º"
   ]
  },
  {
   "cell_type": "code",
   "execution_count": 25,
   "id": "57913ca5",
   "metadata": {},
   "outputs": [
    {
     "name": "stdout",
     "output_type": "stream",
     "text": [
      "Radiación del spot 0.2483043831567 W/m2\n",
      "Potencia para todo el spot 3.9728701305071995e-06 W\n"
     ]
    }
   ],
   "source": [
    "spot=gr.spot_grid(10)\n",
    "potencia_spot=spot.sum().sum()*16*10**-6\n",
    "print(\"Radiación del spot\", spot.sum(),\"W/m2\")\n",
    "print(\"Potencia para todo el spot\",potencia_spot,\"W\")"
   ]
  },
  {
   "cell_type": "markdown",
   "id": "baac01cb",
   "metadata": {},
   "source": [
    "## PARA 30º"
   ]
  },
  {
   "cell_type": "code",
   "execution_count": 28,
   "id": "0d2dda27",
   "metadata": {},
   "outputs": [
    {
     "name": "stdout",
     "output_type": "stream",
     "text": [
      "Radiación del spot 0.21405473239592004 W/m2\n",
      "Potencia para todo el spot 3.4248757183347206e-06 W\n"
     ]
    }
   ],
   "source": [
    "spot=gr.spot_grid(30)\n",
    "potencia_spot=spot.sum().sum()*16*10**-6\n",
    "print(\"Radiación del spot\", spot.sum(),\"W/m2\")\n",
    "print(\"Potencia para todo el spot\",potencia_spot,\"W\")"
   ]
  },
  {
   "cell_type": "markdown",
   "id": "3d5f9816",
   "metadata": {},
   "source": [
    "Basandonos en que podemos relacionar la potencia con los lumnes con la constante: 683 lumen/W"
   ]
  },
  {
   "cell_type": "code",
   "execution_count": 30,
   "id": "bf228c6f",
   "metadata": {},
   "outputs": [
    {
     "name": "stdout",
     "output_type": "stream",
     "text": [
      "0.002339190115622614\n"
     ]
    }
   ],
   "source": [
    "Iluminacion=potencia_spot*683\n",
    "print(\"CADA MODULO DE 10 MM NOS APORTA\", Iluminacion,\"LUMEN\")"
   ]
  }
 ],
 "metadata": {
  "kernelspec": {
   "display_name": "Python 3 (ipykernel)",
   "language": "python",
   "name": "python3"
  },
  "language_info": {
   "codemirror_mode": {
    "name": "ipython",
    "version": 3
   },
   "file_extension": ".py",
   "mimetype": "text/x-python",
   "name": "python",
   "nbconvert_exporter": "python",
   "pygments_lexer": "ipython3",
   "version": "3.9.7"
  }
 },
 "nbformat": 4,
 "nbformat_minor": 5
}
