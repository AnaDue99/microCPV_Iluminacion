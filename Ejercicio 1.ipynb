{
 "cells": [
  {
   "cell_type": "markdown",
   "id": "7897c7a3",
   "metadata": {},
   "source": [
    "# ESTUDIO AOI E IRRADIANCIA DE UNA LENTE BICONVEXA. "
   ]
  },
  {
   "cell_type": "markdown",
   "id": "839328bb",
   "metadata": {},
   "source": [
    "Importamos las librerias"
   ]
  },
  {
   "cell_type": "code",
   "execution_count": 1,
   "id": "8aa958ba",
   "metadata": {},
   "outputs": [],
   "source": [
    "from pvlib import irradiance\n",
    "from pvlib import location\n",
    "import pandas as pd\n",
    "import matplotlib.pyplot as plt\n",
    "import math as m\n",
    "from scipy.integrate import quad "
   ]
  },
  {
   "cell_type": "markdown",
   "id": "b1ce164c",
   "metadata": {},
   "source": [
    "Definimos las caracteristicas del módulo fotovoltaico: inclinaciones, tamaño y distancia focal"
   ]
  },
  {
   "cell_type": "code",
   "execution_count": 2,
   "id": "9c82e0b3",
   "metadata": {},
   "outputs": [],
   "source": [
    "caracteristics_module={    \n",
    "    'tilt':30,\n",
    "    'surface_azimuth':180,\n",
    "    'focal_distance': 5,\n",
    "    'tam_module':7,\n",
    "    'radius_multijunction':2,\n",
    "    'radius_spot':2.001\n",
    "    }"
   ]
  },
  {
   "cell_type": "markdown",
   "id": "726f787a",
   "metadata": {},
   "source": [
    "Definimos las caracteristicas de la localización."
   ]
  },
  {
   "cell_type": "code",
   "execution_count": 3,
   "id": "e4289590",
   "metadata": {},
   "outputs": [],
   "source": [
    "caracteristics_ETSIDI_summer={\n",
    "    'lat':40.405655,\n",
    "    'lon':-3.700292,\n",
    "    'tz':'Etc/GMT+2',\n",
    "    'date':'21-06-2020',\n",
    "    'temp':60\n",
    "    }"
   ]
  },
  {
   "cell_type": "markdown",
   "id": "1f0771cb",
   "metadata": {},
   "source": [
    "Con estos datos de localización podemos crear un objeto con la función location de pvlib. "
   ]
  },
  {
   "cell_type": "code",
   "execution_count": 4,
   "id": "43ff502c",
   "metadata": {},
   "outputs": [],
   "source": [
    "site = location.Location(caracteristics_ETSIDI_summer['lat'], \n",
    "                         caracteristics_ETSIDI_summer['lon'],\n",
    "                        caracteristics_ETSIDI_summer['tz'])"
   ]
  },
  {
   "cell_type": "markdown",
   "id": "7b27e6bf",
   "metadata": {},
   "source": [
    "Creamos con panda una lista de tiempos a lo largo de un día teniendo enceunta el tz de la localización creada. "
   ]
  },
  {
   "cell_type": "code",
   "execution_count": 5,
   "id": "d8317f18",
   "metadata": {},
   "outputs": [],
   "source": [
    "times = pd.date_range(caracteristics_ETSIDI_summer['date'], freq='10min', periods=6*24,\n",
    "                      tz=site.tz)"
   ]
  },
  {
   "cell_type": "markdown",
   "id": "9e70bb02",
   "metadata": {},
   "source": [
    "Con esta lista times, podemos obtener los datos clearsky. esta funcion get_clearsky nos devuelve un dataframe con el dni, ghi y dhi.  Con la funcion get_solarposition obtenemos un dataframe con el zenith y el azimuth"
   ]
  },
  {
   "cell_type": "code",
   "execution_count": 6,
   "id": "7772ed09",
   "metadata": {},
   "outputs": [],
   "source": [
    "clearsky = site.get_clearsky(times)\n",
    "solar_position = site.get_solarposition(times)"
   ]
  },
  {
   "cell_type": "markdown",
   "id": "235f2e77",
   "metadata": {},
   "source": [
    "Con estos datos, podemos usar la funcion get_total_irradiance y calcular la irradiancia total que nos devuelve el poa directo, difuso y global"
   ]
  },
  {
   "cell_type": "code",
   "execution_count": 7,
   "id": "6c29519d",
   "metadata": {},
   "outputs": [],
   "source": [
    "total_irrad=irradiance.get_total_irradiance( \n",
    "    surface_tilt=caracteristics_module['tilt'],\n",
    "    surface_azimuth=caracteristics_module['surface_azimuth'],\n",
    "    dni=clearsky['dni'],\n",
    "    ghi=clearsky['ghi'],\n",
    "    dhi=clearsky['dhi'],\n",
    "    solar_zenith=solar_position['apparent_zenith'],\n",
    "    solar_azimuth=solar_position['azimuth'])"
   ]
  },
  {
   "cell_type": "markdown",
   "id": "ff1f1063",
   "metadata": {},
   "source": [
    "Tambien podemos sacar el AOI de esta localización. Sacamos el máximo y mínimo presente. "
   ]
  },
  {
   "cell_type": "code",
   "execution_count": 8,
   "id": "4586a3e0",
   "metadata": {},
   "outputs": [],
   "source": [
    "AOI=irradiance.aoi( caracteristics_module['tilt'],\n",
    "                   caracteristics_module['surface_azimuth'],\n",
    "                   solar_position['apparent_zenith'], \n",
    "                   solar_position['azimuth'])\n",
    "min_AOI=min(AOI)\n",
    "max_AOI=max(AOI)"
   ]
  },
  {
   "cell_type": "markdown",
   "id": "786b39bd",
   "metadata": {},
   "source": [
    "Definimos una función que calcula el máximo AOIaprovechable dentro del rango de movimiento de la célula. Para ello se usa la función que relaciona el tamaño del modulo, el AOI y la distancia focal. "
   ]
  },
  {
   "cell_type": "code",
   "execution_count": 9,
   "id": "a7b20326",
   "metadata": {},
   "outputs": [],
   "source": [
    "def get_max_aoi(tam_module,focal_dist):\n",
    "    MAX_AOI=m.atan(tam_module/focal_dist)*180/m.pi\n",
    "    return MAX_AOI\n",
    "MAX_AOI=get_max_aoi(caracteristics_module['tam_module'],caracteristics_module['focal_distance'])"
   ]
  },
  {
   "cell_type": "markdown",
   "id": "e184e5fe",
   "metadata": {},
   "source": [
    "# REPARTO DE IRRADIANCIA"
   ]
  },
  {
   "cell_type": "markdown",
   "id": "8e2f3ed1",
   "metadata": {},
   "source": [
    "Creamos dos listas para poder considerar qué irradiancia será usada para iluminación y cual para electricidad. "
   ]
  },
  {
   "cell_type": "markdown",
   "id": "bbd59a48",
   "metadata": {},
   "source": [
    "La lista light=[] Recogerá toda la irradiancia que será utilizada para iluminación. Se va a considerar que capta la irradiancia directa que llega con un AOI mayor que el máximo recién calculado y la difusa. "
   ]
  },
  {
   "cell_type": "markdown",
   "id": "3c95347e",
   "metadata": {},
   "source": [
    "La lista electricity=[] . Recogerá toda la irradiancia directa dentro del AOI máximo. Consideramos que la celula tiene un tracking interno que seguiría los rayos con esos AOI."
   ]
  },
  {
   "cell_type": "code",
   "execution_count": 10,
   "id": "eadb43ad",
   "metadata": {},
   "outputs": [],
   "source": [
    "light=[]\n",
    "electricity=[]"
   ]
  },
  {
   "cell_type": "code",
   "execution_count": 11,
   "id": "7ae14d53",
   "metadata": {},
   "outputs": [],
   "source": [
    "for x in range(len(AOI)):    \n",
    "    if AOI[x]>MAX_AOI:\n",
    "        light.append(total_irrad['poa_direct'][x])\n",
    "        electricity.append(0)\n",
    "        AOI[x]=MAX_AOI\n",
    "    else:\n",
    "        electricity.append(total_irrad['poa_direct'][x])\n",
    "        light.append(0)\n",
    "\n",
    "for i in range(len(light)):\n",
    "    light[i]=light[i]+total_irrad['poa_diffuse'][i]"
   ]
  },
  {
   "cell_type": "markdown",
   "id": "6a2d3b0f",
   "metadata": {},
   "source": [
    "Simplemente por criterio, cambiamos el signo del AOI. "
   ]
  },
  {
   "cell_type": "code",
   "execution_count": 12,
   "id": "117d7185",
   "metadata": {},
   "outputs": [],
   "source": [
    "for x in range(len(AOI)):\n",
    "    if AOI[x]==min_AOI:\n",
    "        a=x\n",
    "        for x in range(a,len(AOI)):\n",
    "          AOI[x]=-AOI[x]"
   ]
  },
  {
   "cell_type": "markdown",
   "id": "619afdbd",
   "metadata": {},
   "source": [
    "Dibujamos:"
   ]
  },
  {
   "cell_type": "code",
   "execution_count": 13,
   "id": "051e908f",
   "metadata": {},
   "outputs": [
    {
     "data": {
      "image/png": "[encoded data removed]",
      "text/plain": [
       "<Figure size 432x288 with 1 Axes>"
      ]
     },
     "metadata": {
      "needs_background": "light"
     },
     "output_type": "display_data"
    },
    {
     "data": {
      "text/plain": [
       "<Figure size 432x288 with 0 Axes>"
      ]
     },
     "metadata": {},
     "output_type": "display_data"
    }
   ],
   "source": [
    "plt.plot(AOI,light, label='Light Irradiance')\n",
    "plt.plot(AOI,electricity, label='Electricity Irradiance')\n",
    "plt.plot(AOI,total_irrad['poa_global'],label='total irradiance')\n",
    "\"plt.plot(AOI,total_irrad['poa_diffuse'],label='diffuse')\"\n",
    "plt.legend(loc=(1.0, 0))\n",
    "plt.xlabel('AOI [º]')\n",
    "plt.ylabel('Irradiance [W/m2]')\n",
    "plt.title('Muesta irradiancias dependiendod el AOI de una lente')\n",
    "plt.show()\n",
    "plt.gcf().set_tight_layout(True)"
   ]
  },
  {
   "cell_type": "markdown",
   "id": "3f058961",
   "metadata": {},
   "source": [
    "# X DESPLAZADO DEL SPOT RESPECTO EL FOCO DE LA LENTE  DEPENDIENDO DEL AOI"
   ]
  },
  {
   "cell_type": "markdown",
   "id": "dd2d2327",
   "metadata": {},
   "source": [
    "Definimos una función, que basada en la relación que hay entre el aoi, el spot y la distancia focal. La distancia focal será la distancia que hay entre la lente y el módulo fotovoltaico"
   ]
  },
  {
   "cell_type": "code",
   "execution_count": 14,
   "id": "b6d8c44c",
   "metadata": {},
   "outputs": [],
   "source": [
    "def get_r(AOI,focal_dist):\n",
    "    r=focal_dist*m.tan(AOI*m.pi/180)\n",
    "    \"por el convenio establecido:\"\n",
    "    r=-r\n",
    "    return r"
   ]
  },
  {
   "cell_type": "code",
   "execution_count": 15,
   "id": "e7db3dbb",
   "metadata": {},
   "outputs": [],
   "source": [
    "R=[]\n",
    "for i in AOI:\n",
    "    R.append(get_r(i,caracteristics_module['focal_distance']))"
   ]
  },
  {
   "cell_type": "markdown",
   "id": "d09b6210",
   "metadata": {},
   "source": [
    "Dibujamos:"
   ]
  },
  {
   "cell_type": "code",
   "execution_count": 16,
   "id": "92537bf8",
   "metadata": {},
   "outputs": [
    {
     "data": {
      "image/png": "[encoded data removed]",
      "text/plain": [
       "<Figure size 432x288 with 1 Axes>"
      ]
     },
     "metadata": {
      "needs_background": "light"
     },
     "output_type": "display_data"
    },
    {
     "data": {
      "text/plain": [
       "<Figure size 432x288 with 0 Axes>"
      ]
     },
     "metadata": {},
     "output_type": "display_data"
    }
   ],
   "source": [
    "plt.plot(AOI,R,label='R')\n",
    "\"plt.plot(AOI,X,label='X')\"\n",
    "\"plt.plot(AOI,Y,label='Y')\"\n",
    "plt.legend(loc=(1.0, 0))\n",
    "plt.xlabel('AOI (º)')\n",
    "plt.ylabel('R (mm)')\n",
    "plt.title('Movimiento del foco dependiendo del AOI a lo largo del dia')\n",
    "plt.show()\n",
    "plt.gcf().set_tight_layout(True)"
   ]
  },
  {
   "cell_type": "markdown",
   "id": "05f919fd",
   "metadata": {},
   "source": [
    "# ESTUDIO TENIENDO EN CUENTA EL CONCEPTO DE SPOT"
   ]
  },
  {
   "cell_type": "markdown",
   "id": "27c1f7de",
   "metadata": {},
   "source": [
    "Creamos otras dos listas que recogerán la irradiancia destinada a iluminación (light_spot) y la destinada a electricidad (electricity_spot)"
   ]
  },
  {
   "cell_type": "code",
   "execution_count": 17,
   "id": "2a007f06",
   "metadata": {},
   "outputs": [],
   "source": [
    "light_spot=[]\n",
    "electricity_spot=[]"
   ]
  },
  {
   "cell_type": "markdown",
   "id": "648a3161",
   "metadata": {},
   "source": [
    "Trabajamos teniendo en cuenta la intersección de dos circulos: el circulo del spot y el circulo de la celula de multiunión. El circulo del spot es algo mayor. Se plantea la siguiente integral matemática. R es el desplazamiento del foco, Rs el radio del spot, Rm el radio de la celula multiunión. Usamos los puntos C, A, B para poder determinar los limites de integración"
   ]
  },
  {
   "cell_type": "markdown",
   "id": "c1afb6dc",
   "metadata": {},
   "source": [
    "<img src=\"SPOT_Integral.png\">"
   ]
  },
  {
   "cell_type": "code",
   "execution_count": 19,
   "id": "c0cadefe",
   "metadata": {},
   "outputs": [],
   "source": [
    "def f(x):\n",
    "    return m.sqrt(abs((caracteristics_module['radius_multijunction'])**2-x**2))"
   ]
  },
  {
   "cell_type": "code",
   "execution_count": 20,
   "id": "80b32c43",
   "metadata": {},
   "outputs": [],
   "source": [
    "def intersection(f,d, rs, rm):\n",
    "    B=rm\n",
    "    C=abs(d)-rs\n",
    "    A=(B+C)/2\n",
    "    match_surface=quad(f,A,B)\n",
    "  \n",
    "    if match_surface[0]<0:\n",
    "        match_surface_ = 0 \n",
    "          \n",
    "    else:\n",
    "        match_surface_=4*match_surface[0]\n",
    "    return match_surface_"
   ]
  },
  {
   "cell_type": "markdown",
   "id": "6f6ae6d3",
   "metadata": {},
   "source": [
    "Se especifica dentro de la funcion intersection que si el resultado de la integral es negativo es porque no hay ningun área común. "
   ]
  },
  {
   "cell_type": "markdown",
   "id": "362bb114",
   "metadata": {},
   "source": [
    "Definimos dos listas, para poder tratar mejor los datos. Uno que recoja las superficies comunes entre el spot y la celula (match_surface) y otro que recoja la eficiencia eléctrica obtenida(electric_efficiency). "
   ]
  },
  {
   "cell_type": "code",
   "execution_count": 21,
   "id": "9b719003",
   "metadata": {},
   "outputs": [],
   "source": [
    "match_surface=[]\n",
    "electric_efficiency=[]"
   ]
  },
  {
   "cell_type": "markdown",
   "id": "dc8ce866",
   "metadata": {},
   "source": [
    "La eficiencia eléctrica se va a calcular tenieno en cuenta la relación de áreas. Sin asumir pérdidas se va a dividir así el poa directo entre la irradiancia para generación de electricidad y la lumínica. Obviamente se considera que si la superficie de contacto es nula, toda la electricidad será de aprovechamiento lumínico"
   ]
  },
  {
   "cell_type": "code",
   "execution_count": 22,
   "id": "33083884",
   "metadata": {},
   "outputs": [],
   "source": [
    "for i in range(len(R)):\n",
    "   match_surface.append(intersection(f,R[i],caracteristics_module['radius_spot'],caracteristics_module['radius_multijunction']))\n",
    "   \n",
    "   if match_surface==0:\n",
    "        light_spot.append(total_irrad['poa_direct'][i])\n",
    "        electricity_spot.append(0)\n",
    "      \n",
    "    \n",
    "   else:\n",
    "        electric_efficiency.append(match_surface[i]/(m.pi*(caracteristics_module['radius_spot'])**2))\n",
    "        light_spot.append(total_irrad['poa_direct'][i]*(1-electric_efficiency[i]))\n",
    "        electricity_spot.append(total_irrad['poa_direct'][i]*electric_efficiency[i])\n",
    "\n",
    "  "
   ]
  },
  {
   "cell_type": "markdown",
   "id": "45e53e1f",
   "metadata": {},
   "source": [
    " Volvemos a achacar toda la irradiancia difusa a la irradiancia de aprovechamiento lumínico."
   ]
  },
  {
   "cell_type": "code",
   "execution_count": 23,
   "id": "f3b0a3ce",
   "metadata": {},
   "outputs": [],
   "source": [
    "for i in range(len(light)):\n",
    "    light_spot[i]=light_spot[i]+total_irrad['poa_diffuse'][i]\n"
   ]
  },
  {
   "cell_type": "markdown",
   "id": "0cbbf910",
   "metadata": {},
   "source": [
    "Dibujamos la eficiencia de generación eléctrica (proporcional al área coincidente)"
   ]
  },
  {
   "cell_type": "code",
   "execution_count": 24,
   "id": "493af832",
   "metadata": {
    "scrolled": true
   },
   "outputs": [
    {
     "data": {
      "image/png": "[encoded data removed]",
      "text/plain": [
       "<Figure size 432x288 with 1 Axes>"
      ]
     },
     "metadata": {
      "needs_background": "light"
     },
     "output_type": "display_data"
    }
   ],
   "source": [
    "plt.plot(AOI, electric_efficiency,label='eficiencia generación electrica')\n",
    "plt.xlabel('AOI [º]')\n",
    "plt.ylabel(' EFICIENCIA ELÉCTRICA [%1]')\n",
    "plt.title('Eficiencia en tanto por 1')\n",
    "plt.show()\n",
    "\n",
    "\n",
    "\n"
   ]
  },
  {
   "cell_type": "markdown",
   "id": "0963140c",
   "metadata": {},
   "source": [
    "Dibujamos las irradiancias obtenidas para generación electrica e iluminación"
   ]
  },
  {
   "cell_type": "code",
   "execution_count": 25,
   "id": "4b46d8ae",
   "metadata": {},
   "outputs": [
    {
     "data": {
      "image/png": "[encoded data removed]",
      "text/plain": [
       "<Figure size 432x288 with 1 Axes>"
      ]
     },
     "metadata": {
      "needs_background": "light"
     },
     "output_type": "display_data"
    },
    {
     "data": {
      "text/plain": [
       "<Figure size 432x288 with 0 Axes>"
      ]
     },
     "metadata": {},
     "output_type": "display_data"
    }
   ],
   "source": [
    "plt.plot(AOI,light_spot, label='Light Irradiance')\n",
    "plt.plot(AOI,electricity_spot, label='Electricity Irradiance')\n",
    "plt.plot(AOI,total_irrad['poa_global'],label='total irradiance')\n",
    "\"plt.plot(AOI,total_irrad['poa_diffuse'],label='diffuse')\"\n",
    "plt.legend(loc=(1.0, 0))\n",
    "plt.xlabel('AOI [º]')\n",
    "plt.ylabel('Irradiance [W/m2]')\n",
    "plt.title('Muesta irradiancias dependiendod el AOI de una lente TENIENDO EN CUENTA EL SPOT')\n",
    "plt.show()\n",
    "plt.gcf().set_tight_layout(True)"
   ]
  }
 ],
 "metadata": {
  "kernelspec": {
   "display_name": "Python 3",
   "language": "python",
   "name": "python3"
  },
  "language_info": {
   "codemirror_mode": {
    "name": "ipython",
    "version": 3
   },
   "file_extension": ".py",
   "mimetype": "text/x-python",
   "name": "python",
   "nbconvert_exporter": "python",
   "pygments_lexer": "ipython3",
   "version": "3.8.8"
  }
 },
 "nbformat": 4,
 "nbformat_minor": 5
}
