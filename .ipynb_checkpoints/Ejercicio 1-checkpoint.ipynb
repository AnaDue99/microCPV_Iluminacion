{
 "cells": [
  {
   "cell_type": "markdown",
   "id": "7897c7a3",
   "metadata": {},
   "source": [
    "# ESTUDIO AOI E IRRADIANCIA DE UNA LENTE BICONVEXA. "
   ]
  },
  {
   "cell_type": "markdown",
   "id": "839328bb",
   "metadata": {},
   "source": [
    "Importamos las librerias"
   ]
  },
  {
   "cell_type": "code",
   "execution_count": 3,
   "id": "8aa958ba",
   "metadata": {},
   "outputs": [],
   "source": [
    "from pvlib import irradiance\n",
    "from pvlib import location\n",
    "import pandas as pd\n",
    "import matplotlib.pyplot as plt\n",
    "import math as m"
   ]
  },
  {
   "cell_type": "markdown",
   "id": "b1ce164c",
   "metadata": {},
   "source": [
    "Definimos las caracteristicas del módulo fotovoltaico: inclinaciones, tamaño y distancia focal"
   ]
  },
  {
   "cell_type": "code",
   "execution_count": 4,
   "id": "9c82e0b3",
   "metadata": {},
   "outputs": [],
   "source": [
    "caracteristics_module={    \n",
    "    'tilt':30,\n",
    "    'surface_azimuth':180,\n",
    "    'focal_distance': 5,\n",
    "    'tam_module':30\n",
    "    }"
   ]
  },
  {
   "cell_type": "markdown",
   "id": "726f787a",
   "metadata": {},
   "source": [
    "Definimos las caracteristicas de la localización."
   ]
  },
  {
   "cell_type": "code",
   "execution_count": 5,
   "id": "e4289590",
   "metadata": {},
   "outputs": [],
   "source": [
    "caracteristics_ETSIDI_summer={\n",
    "    'lat':40.405655,\n",
    "    'lon':-3.700292,\n",
    "    'tz':'Etc/GMT+2',\n",
    "    'date':'21-06-2020',\n",
    "    'temp':60\n",
    "    }"
   ]
  },
  {
   "cell_type": "markdown",
   "id": "1f0771cb",
   "metadata": {},
   "source": [
    "Con estos datos de localización podemos crear un objeto con la función location de pvlib. "
   ]
  },
  {
   "cell_type": "code",
   "execution_count": 6,
   "id": "43ff502c",
   "metadata": {},
   "outputs": [],
   "source": [
    "site = location.Location(caracteristics_ETSIDI_summer['lat'], \n",
    "                         caracteristics_ETSIDI_summer['lon'],\n",
    "                        caracteristics_ETSIDI_summer['tz'])"
   ]
  },
  {
   "cell_type": "markdown",
   "id": "7b27e6bf",
   "metadata": {},
   "source": [
    "Creamos con panda una lista de tiempos a lo largo de un día teniendo enceunta el tz de la localización creada. "
   ]
  },
  {
   "cell_type": "code",
   "execution_count": 7,
   "id": "d8317f18",
   "metadata": {},
   "outputs": [],
   "source": [
    "times = pd.date_range(caracteristics_ETSIDI_summer['date'], freq='10min', periods=6*24,\n",
    "                      tz=site.tz)"
   ]
  },
  {
   "cell_type": "markdown",
   "id": "9e70bb02",
   "metadata": {},
   "source": [
    "Con esta lista times, podemos obtener los datos clearsky. esta funcion get_clearsky nos devuelve un dataframe con el dni, ghi y dhi.  Con la funcion get_solarposition obtenemos un dataframe con el zenith y el azimuth"
   ]
  },
  {
   "cell_type": "code",
   "execution_count": 8,
   "id": "7772ed09",
   "metadata": {},
   "outputs": [],
   "source": [
    "clearsky = site.get_clearsky(times)\n",
    "solar_position = site.get_solarposition(times)"
   ]
  },
  {
   "cell_type": "markdown",
   "id": "235f2e77",
   "metadata": {},
   "source": [
    "Con estos datos, podemos usar la funcion get_total_irradiance y calcular la irradiancia total que nos devuelve el poa directo, difuso y global"
   ]
  },
  {
   "cell_type": "code",
   "execution_count": 9,
   "id": "6c29519d",
   "metadata": {},
   "outputs": [],
   "source": [
    "total_irrad=irradiance.get_total_irradiance( \n",
    "    surface_tilt=caracteristics_module['tilt'],\n",
    "    surface_azimuth=caracteristics_module['surface_azimuth'],\n",
    "    dni=clearsky['dni'],\n",
    "    ghi=clearsky['ghi'],\n",
    "    dhi=clearsky['dhi'],\n",
    "    solar_zenith=solar_position['apparent_zenith'],\n",
    "    solar_azimuth=solar_position['azimuth'])"
   ]
  },
  {
   "cell_type": "markdown",
   "id": "ff1f1063",
   "metadata": {},
   "source": [
    "Tambien podemos sacar el AOI de esta localización. Sacamos el máximo y mínimo presente. "
   ]
  },
  {
   "cell_type": "code",
   "execution_count": 10,
   "id": "4586a3e0",
   "metadata": {},
   "outputs": [],
   "source": [
    "AOI=irradiance.aoi( caracteristics_module['tilt'],\n",
    "                   caracteristics_module['surface_azimuth'],\n",
    "                   solar_position['apparent_zenith'], \n",
    "                   solar_position['azimuth'])\n",
    "min_AOI=min(AOI)\n",
    "max_AOI=max(AOI)"
   ]
  },
  {
   "cell_type": "markdown",
   "id": "786b39bd",
   "metadata": {},
   "source": [
    "Definimos una función que calcula el máximo AOIaprovechable dentro del rango de movimiento de la célula. Para ello se usa la función que relaciona el tamaño del modulo, el AOI y la distancia focal. "
   ]
  },
  {
   "cell_type": "code",
   "execution_count": 11,
   "id": "a7b20326",
   "metadata": {},
   "outputs": [],
   "source": [
    "def get_max_aoi(tam_module,focal_dist):\n",
    "    MAX_AOI=m.atan(tam_module/focal_dist)*180/m.pi\n",
    "    return MAX_AOI\n",
    "MAX_AOI=get_max_aoi(caracteristics_module['tam_module'],caracteristics_module['focal_distance'])"
   ]
  },
  {
   "cell_type": "markdown",
   "id": "e184e5fe",
   "metadata": {},
   "source": [
    "# REPARTO DE IRRADIANCIA"
   ]
  },
  {
   "cell_type": "markdown",
   "id": "0706f932",
   "metadata": {},
   "source": [
    "Creamos dos listas para poder considerar qué irradiancia será usada para iluminación y cual para electricidad. "
   ]
  },
  {
   "cell_type": "markdown",
   "id": "bbd59a48",
   "metadata": {},
   "source": [
    "La lista light=[] Recogerá toda la irradiancia que será utilizada para iluminación. Se va a considerar que capta la irradiancia directa que llega con un AOI mayor que el máximo recién calculado y la difusa. "
   ]
  },
  {
   "cell_type": "markdown",
   "id": "3c95347e",
   "metadata": {},
   "source": [
    "La lista electricity=[] . Recogerá toda la irradiancia directa dentro del AOI máximo. Consideramos que la celula tiene un tracking interno que seguiría los rayos con esos AOI."
   ]
  },
  {
   "cell_type": "code",
   "execution_count": 18,
   "id": "eadb43ad",
   "metadata": {},
   "outputs": [],
   "source": [
    "light=[]\n",
    "electricity=[]"
   ]
  },
  {
   "cell_type": "code",
   "execution_count": 19,
   "id": "7ae14d53",
   "metadata": {},
   "outputs": [],
   "source": [
    "for x in range(len(AOI)):    \n",
    "    if AOI[x]>MAX_AOI:\n",
    "        light.append(total_irrad['poa_direct'][x])\n",
    "        electricity.append(0)\n",
    "        AOI[x]=MAX_AOI\n",
    "    else:\n",
    "        electricity.append(total_irrad['poa_direct'][x])\n",
    "        light.append(0)\n",
    "\n",
    "for i in range(len(light)):\n",
    "    light[i]=light[i]+total_irrad['poa_diffuse'][i]"
   ]
  },
  {
   "cell_type": "markdown",
   "id": "6a2d3b0f",
   "metadata": {},
   "source": [
    "Simplemente por criterio, cambiamos el signo del AOI. "
   ]
  },
  {
   "cell_type": "code",
   "execution_count": 20,
   "id": "117d7185",
   "metadata": {},
   "outputs": [],
   "source": [
    "for x in range(len(AOI)):\n",
    "    if AOI[x]==min_AOI:\n",
    "        a=x\n",
    "        for x in range(a,len(AOI)):\n",
    "          AOI[x]=-AOI[x]"
   ]
  },
  {
   "cell_type": "markdown",
   "id": "3f058961",
   "metadata": {},
   "source": [
    "# X DESPLAZADO DEL SPOT RESPECTO EL FOCO DE LA LENTE  DEPENDIENDO DEL AOI"
   ]
  },
  {
   "cell_type": "markdown",
   "id": "fd4482a5",
   "metadata": {},
   "source": [
    "Definimos una función, que basada en la relación que hay entre el aoi, el spot y la distancia focal. La distancia focal será la distancia que hay entre la lente y el módulo fotovoltaico"
   ]
  },
  {
   "cell_type": "code",
   "execution_count": 22,
   "id": "9e9fd4cb",
   "metadata": {},
   "outputs": [],
   "source": [
    "def get_r(AOI,focal_dist):\n",
    "    r=focal_dist*m.tan(AOI*m.pi/180)\n",
    "    \"por el convenio establecido:\"\n",
    "    r=-r\n",
    "    return r"
   ]
  },
  {
   "cell_type": "code",
   "execution_count": 24,
   "id": "7a6df95d",
   "metadata": {},
   "outputs": [],
   "source": [
    "R=[]\n",
    "for i in AOI:\n",
    "    R.append(get_r(i,caracteristics_module['focal_distance']))"
   ]
  },
  {
   "cell_type": "markdown",
   "id": "b2bdd1c5",
   "metadata": {},
   "source": []
  }
 ],
 "metadata": {
  "kernelspec": {
   "display_name": "Python 3",
   "language": "python",
   "name": "python3"
  },
  "language_info": {
   "codemirror_mode": {
    "name": "ipython",
    "version": 3
   },
   "file_extension": ".py",
   "mimetype": "text/x-python",
   "name": "python",
   "nbconvert_exporter": "python",
   "pygments_lexer": "ipython3",
   "version": "3.8.8"
  }
 },
 "nbformat": 4,
 "nbformat_minor": 5
}
