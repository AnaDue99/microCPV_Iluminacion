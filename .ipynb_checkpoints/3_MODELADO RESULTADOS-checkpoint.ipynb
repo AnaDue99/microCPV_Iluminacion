{
 "cells": [
  {
   "cell_type": "markdown",
   "id": "743d044b",
   "metadata": {},
   "source": [
    "# ESTUDIO CÉLULA DURANTE UN DÍA "
   ]
  },
  {
   "cell_type": "code",
   "execution_count": 1,
   "id": "b37f5ce3",
   "metadata": {},
   "outputs": [],
   "source": [
    "import module_Cell as cell\n",
    "import module_AoiGrids as gr\n",
    "import matplotlib.pyplot as plt\n",
    "import pandas as pd\n",
    "import numpy as np\n",
    "from scipy.interpolate import InterpolatedUnivariateSpline as interp"
   ]
  },
  {
   "cell_type": "code",
   "execution_count": 2,
   "id": "9e0d86f0",
   "metadata": {},
   "outputs": [],
   "source": [
    "caracteristics_module={    \n",
    "    'tilt':30,\n",
    "    'surface_azimuth':180,\n",
    "    'radius':0.6,\n",
    "    'area':179*10**-6\n",
    "    }"
   ]
  },
  {
   "cell_type": "code",
   "execution_count": 3,
   "id": "bbc49aa2",
   "metadata": {},
   "outputs": [],
   "source": [
    "caracteristics_place={\n",
    "    'lat':40.544,\n",
    "    'lon':-3.613,\n",
    "    'tz':'Europe/Madrid',\n",
    "    'date':'2021-06-21',\n",
    "    }"
   ]
  },
  {
   "cell_type": "markdown",
   "id": "0857e561",
   "metadata": {},
   "source": [
    "### SE ESTUDIAN LAS FUNCIONES PARA CADA AOI RESPECTO EL DESPLAZAMIENTO YSE GUARDAN EN FORMA DE FUNCIÓN"
   ]
  },
  {
   "cell_type": "code",
   "execution_count": 4,
   "id": "3388b8b5",
   "metadata": {},
   "outputs": [],
   "source": [
    "desp=np.arange(-6, 6, 0.1)"
   ]
  },
  {
   "cell_type": "code",
   "execution_count": null,
   "id": "8a99e0a1",
   "metadata": {},
   "outputs": [],
   "source": [
    "f_0,f_5,f_10,f_15,f_20,f_25,f_30,f_35,f_40,f_45,f_50,f_55,f_60=cell.function(desp,caracteristics_module['radius'])"
   ]
  },
  {
   "cell_type": "code",
   "execution_count": null,
   "id": "4558de6d",
   "metadata": {},
   "outputs": [],
   "source": [
    "data_location=gr.get_data_location(caracteristics_place,caracteristics_module,caracteristics_place['date']) "
   ]
  },
  {
   "cell_type": "markdown",
   "id": "2d0f631c",
   "metadata": {},
   "source": [
    "### ESTUDIO CÉLULA TODO GENERACIÓN FOTOVOLTAICA"
   ]
  },
  {
   "cell_type": "markdown",
   "id": "196a07f7",
   "metadata": {},
   "source": [
    "Se asume que todo la irradiación se usa para generación fotovoltaica y asumimos un día ideal sin nubes\n",
    "\n"
   ]
  },
  {
   "cell_type": "code",
   "execution_count": null,
   "id": "1a8e2059",
   "metadata": {},
   "outputs": [],
   "source": [
    "lum_only_diff=cell.from_rad_to_lum(data_location['POA_diffuse'],caracteristics_module['area'])\n",
    "lum_only_diff.plot(label='iluminación modulo ')\n",
    "\n",
    "plt.xlabel('Horas del día')\n",
    "plt.ylabel('Flujo luminoso (lm)')\n",
    "plt.title(\"Flujo luminoso en lumen para el \"+ caracteristics_place['date']+\" solo irradiación difusa\")\n",
    "\n",
    "plt.show()"
   ]
  },
  {
   "cell_type": "markdown",
   "id": "d52c0f7b",
   "metadata": {},
   "source": [
    "### ESTUDIO CELULA SIN MOVIMIENTO"
   ]
  },
  {
   "cell_type": "code",
   "execution_count": null,
   "id": "dcc87b45",
   "metadata": {},
   "outputs": [],
   "source": [
    "lum_no_mov_=[]\n",
    "\n",
    "for i in range(len(data_location['AOI'])):\n",
    "    irrad_distribution=cell.performance_curve(0,data_location['AOI'][i],f_0,f_5,f_10,f_15,f_20,f_25,f_30,f_35,f_40,f_45,f_50,f_55,f_60)*data_location['POA_direct'][i]\n",
    "    lum_no_mov_.append(cell.from_pot_to_lum(float(irrad_distribution)))\n",
    "    \n",
    "lum_no_mov=lum_no_mov_+cell.from_rad_to_lum(data_location['POA_diffuse'],caracteristics_module['area'])"
   ]
  },
  {
   "cell_type": "code",
   "execution_count": null,
   "id": "5f8819a3",
   "metadata": {
    "scrolled": false
   },
   "outputs": [],
   "source": [
    "lum_no_mov.plot(label='iluminación modulo ')\n",
    "plt.xlabel('horas del día')\n",
    "plt.ylabel('Flujo luminoso (lm)')\n",
    "plt.title(\"Flujo luminoso en lumen para el \"+ caracteristics_place['date']+ \" con la celula sin mover\")\n",
    "\n",
    "plt.show()"
   ]
  },
  {
   "cell_type": "markdown",
   "id": "3abd0a68",
   "metadata": {},
   "source": [
    "### ESTUDIO CÉLULA CON MOVIMIENTO"
   ]
  },
  {
   "cell_type": "markdown",
   "id": "6c9c6f82",
   "metadata": {},
   "source": [
    "Suponemos un caso: se decide que cada unidad célula-lente emita un máximo de 5lm de forma constante"
   ]
  },
  {
   "cell_type": "code",
   "execution_count": null,
   "id": "26ee3f18",
   "metadata": {
    "scrolled": false
   },
   "outputs": [],
   "source": [
    "lm_goal=5\n",
    "lm_mov_=[]\n",
    "desp_cell_=[]\n",
    "performance=[]\n",
    "for i in range(len(data_location['AOI'])):\n",
    "    desp_,illum=cell.adjust(lm_goal,data_location['AOI'][i],caracteristics_module['area'],data_location['POA_direct'][i],data_location['POA_diffuse'][i],f_0,f_5,f_10,f_15,f_20,f_25,f_30,f_35,f_40,f_45,f_50,f_55,f_60)\n",
    "    performance.append(cell.performance_curve(desp_,data_location['AOI'][i],f_0,f_5,f_10,f_15,f_20,f_25,f_30,f_35,f_40,f_45,f_50,f_55,f_60)*100/f_0(desp).max())\n",
    "    lm_mov_.append(illum)\n",
    "    desp_cell_.append(desp_)\n",
    "\n",
    "lm_mov=pd.Series(lm_mov_)\n",
    "lm_mov.index=data_location['times'].index\n",
    "desp_cell=pd.Series(desp_cell_)\n",
    "desp_cell.index=data_location['times'].index"
   ]
  },
  {
   "cell_type": "code",
   "execution_count": null,
   "id": "e1d848e7",
   "metadata": {},
   "outputs": [],
   "source": [
    "performance_illum=pd.Series(performance)\n",
    "\n",
    "performance_illum.index=data_location['times'].index\n",
    "performance_elec=100-performance_illum"
   ]
  },
  {
   "cell_type": "code",
   "execution_count": null,
   "id": "cd85ce5c",
   "metadata": {
    "scrolled": true
   },
   "outputs": [],
   "source": [
    "performance_elec.plot(label='electricidad')\n",
    "performance_illum.plot(label='iluminacion')\n",
    "\n",
    "plt.xlabel('horas del día')\n",
    "plt.ylabel('% iluminación')\n",
    "plt.title(\"Porcentaje irradiación para iluminación \"+ caracteristics_place['date']+ \"  para un valor constante de \"+str(lm_goal)+\" lumen\")\n",
    "plt.xlabel('horas del día')\n",
    "plt.ylabel('% iluminación')\n",
    "plt.title(\"Porcentaje irradiación para iluminación \"+ caracteristics_place['date']+ \"  para un valor constante de \"+str(lm_goal)+\" lumen\")\n",
    "plt.legend(loc=(1.0, 0))\n",
    "plt.show()"
   ]
  },
  {
   "cell_type": "markdown",
   "id": "b734655d",
   "metadata": {},
   "source": [
    "Obtenemos los W/m2 que se consiguen:"
   ]
  },
  {
   "cell_type": "code",
   "execution_count": null,
   "id": "d710136c",
   "metadata": {
    "scrolled": true
   },
   "outputs": [],
   "source": [
    "electricidad=data_location['POA_direct']*performance_elec/100\n",
    "total_irrad_elec=electricidad.sum()/6\n",
    "print(\"A lo largo del día se obtienen \",total_irrad_elec,\" W/m2 para energía fotovoltaica\")"
   ]
  },
  {
   "cell_type": "code",
   "execution_count": null,
   "id": "081688ab",
   "metadata": {
    "scrolled": true
   },
   "outputs": [],
   "source": [
    "lm_mov.plot(label='iluminación modulo ')\n",
    "plt.xlabel('horas del día')\n",
    "plt.ylabel('Flujo luminoso (lm)')\n",
    "plt.title(\" Flujo luminoso en lumen para el \"+ caracteristics_place['date']+ \"  para un valor constante de \"+str(lm_goal)+\" lm\")\n",
    "plt.show()"
   ]
  },
  {
   "cell_type": "code",
   "execution_count": null,
   "id": "e10eecd0",
   "metadata": {
    "scrolled": false
   },
   "outputs": [],
   "source": [
    "desp_cell.plot(label='iluminación modulo ')\n",
    "plt.xlabel('horas del día')\n",
    "plt.ylabel('desplazamiento celula (mm)')\n",
    "plt.title(\"Desplazamiento para el \"+caracteristics_place['date']+\"  para un valor constante de \"+str(lm_goal)+\" lm\")\n",
    "\n",
    "plt.show()"
   ]
  },
  {
   "cell_type": "markdown",
   "id": "ad3adfbd",
   "metadata": {},
   "source": [
    "# ESTUDIO CÉLULA DURANTE UN AÑO: 2020"
   ]
  },
  {
   "cell_type": "code",
   "execution_count": null,
   "id": "0142d7c7",
   "metadata": {},
   "outputs": [],
   "source": [
    "date=np.array('2021-01-01', dtype=np.datetime64)\n",
    "date= date + np.arange(365)"
   ]
  },
  {
   "cell_type": "code",
   "execution_count": null,
   "id": "68ea0491",
   "metadata": {},
   "outputs": [],
   "source": [
    "illum_module_year_=[]\n",
    "Index=[]\n",
    "for day in date:\n",
    "    data_location=gr.get_data_location(caracteristics_place,caracteristics_module,day) \n",
    "    for i in range(len(data_location['AOI'])):\n",
    "        irrad_distribution=cell.performance_curve(0,data_location['AOI'][i],f_0,f_5,f_10,f_15,f_20,f_25,f_30,f_35,f_40,f_45,f_50,f_55,f_60)*data_location['POA_direct'][i]\n",
    "        illum_module_year_.append(cell.from_pot_to_lum(float(irrad_distribution))+cell.from_rad_to_lum(data_location['POA_diffuse'][i],caracteristics_module['area']))\n",
    "        \n",
    "        Index.append(data_location['times'][i])\n",
    "    \n",
    "\n",
    "illum_module_year=pd.Series(illum_module_year_)\n",
    "illum_module_year.index=Index"
   ]
  },
  {
   "cell_type": "code",
   "execution_count": null,
   "id": "0205868b",
   "metadata": {
    "scrolled": true
   },
   "outputs": [],
   "source": [
    "illum_module_year.plot()\n",
    "plt.xlabel('dias del año')\n",
    "plt.ylabel('Flujo luminoso (lm)')\n",
    "plt.title(\"Flujo luminoso en lumen para todo el año con célula de nulo desplazamiento\")\n",
    "plt.show()"
   ]
  },
  {
   "cell_type": "markdown",
   "id": "0846dc13",
   "metadata": {},
   "source": [
    "### ESTUDIO CONSTANTE 5 LUMEN"
   ]
  },
  {
   "cell_type": "code",
   "execution_count": null,
   "id": "b9909e32",
   "metadata": {},
   "outputs": [],
   "source": [
    "lm_goal=5\n",
    "lm_year_=[]\n",
    "desp_cell_year_=[]\n",
    "Index=[]\n",
    "hsp_year_=[]\n",
    "for day in date:\n",
    "    data_location=gr.get_data_location(caracteristics_place,caracteristics_module,day)\n",
    "    performance=[]\n",
    "    for i in range(len(data_location['AOI'])):\n",
    "        desp_,lum=cell.adjust(lm_goal,data_location['AOI'][i],caracteristics_module['area'],data_location['POA_direct'][i],data_location['POA_diffuse'][i],f_0,f_5,f_10,f_15,f_20,f_25,f_30,f_35,f_40,f_45,f_50,f_55,f_60)\n",
    "        performance.append(cell.performance_curve(desp_,data_location['AOI'][i],f_0,f_5,f_10,f_15,f_20,f_25,f_30,f_35,f_40,f_45,f_50,f_55,f_60)*100/f_0(desp).max())\n",
    "        lm_year_.append(lum)\n",
    "        desp_cell_year_.append(desp_)\n",
    "        Index.append(data_location['times'][i])\n",
    "        \n",
    "    performance_ilum=pd.Series(performance)\n",
    "    performance_ilum.index=data_location['times'].index\n",
    "    performance_el=100-performance_ilum    \n",
    "    electricity=data_location['POA_direct']*performance_el/100\n",
    "    \n",
    "    hps_equiv=electricity.sum()/6000\n",
    "    hsp_year_.append(hps_equiv)\n",
    "    \n",
    "   \n",
    "    \n",
    "lm_year=pd.Series(lm_year_)\n",
    "lm_year.index=Index\n",
    "desp_cell_year=pd.Series(desp_cell_year_)\n",
    "desp_cell_year.index=Index\n",
    "\n"
   ]
  },
  {
   "cell_type": "code",
   "execution_count": null,
   "id": "9987ba9b",
   "metadata": {},
   "outputs": [],
   "source": [
    "lm_year.plot(label='iluminación modulo ')\n",
    "plt.xlabel('dias del año')\n",
    "plt.ylabel('Flujo luminoso (lm)')\n",
    "plt.title(\"Flujo luminoso en lumen para el \"+ caracteristics_place['date']+ \" con la celula para un valor constante de \"+str(lm_goal)+\"lm\")\n",
    "plt.show()"
   ]
  },
  {
   "cell_type": "code",
   "execution_count": null,
   "id": "dc361a34",
   "metadata": {},
   "outputs": [],
   "source": [
    "desp_cell_year.plot(label='iluminación modulo ')\n",
    "plt.xlabel('dias del año')\n",
    "plt.ylabel('Desplazamiento celula (mm)')\n",
    "plt.title(\"Desplazamiento para el \"+caracteristics_place['date']+\" con la celula para un valor constante de \"+str(lm_goal)+\"lm\")\n",
    "\n",
    "plt.show()"
   ]
  },
  {
   "cell_type": "code",
   "execution_count": null,
   "id": "46dacf9f",
   "metadata": {},
   "outputs": [],
   "source": [
    "plt.plot(date,hsp_year_)\n",
    "plt.xlabel('día del año')\n",
    "plt.ylabel('HSP equivalentes para fotovoltaica')\n",
    "plt.title(\"HSP equivalentes para electricidad con la celula para un valor constante de \"+str(lm_goal)+\" lm\")\n",
    "\n",
    "plt.show()"
   ]
  },
  {
   "cell_type": "markdown",
   "id": "d3bdd5d7",
   "metadata": {},
   "source": [
    "Se pueden comparar estas HSP equivalentes con las HSP que se obtendrían de forma normal"
   ]
  },
  {
   "cell_type": "code",
   "execution_count": null,
   "id": "122ddb6e",
   "metadata": {},
   "outputs": [],
   "source": [
    "hsp_year_mo_lm=[]\n",
    "for day in date:\n",
    "    data_location=gr.get_data_location(caracteristics_place,caracteristics_module,day)    \n",
    "    hsp_year_mo_lm.append(data_location['POA_direct'].sum()/6000)\n",
    "    \n",
    "   \n",
    "\n",
    "\n",
    "plt.plot(date,hsp_year_mo_lm)\n",
    "plt.xlabel('día del año')\n",
    "plt.ylabel('HSP equivalentes para fotovoltaica')\n",
    "plt.title(\"HSP equivalentes para electricidad para el emplazamiento elegido \")\n",
    "\n",
    "plt.show()"
   ]
  }
 ],
 "metadata": {
  "kernelspec": {
   "display_name": "Python 3 (ipykernel)",
   "language": "python",
   "name": "python3"
  },
  "language_info": {
   "codemirror_mode": {
    "name": "ipython",
    "version": 3
   },
   "file_extension": ".py",
   "mimetype": "text/x-python",
   "name": "python",
   "nbconvert_exporter": "python",
   "pygments_lexer": "ipython3",
   "version": "3.9.7"
  }
 },
 "nbformat": 4,
 "nbformat_minor": 5
}
