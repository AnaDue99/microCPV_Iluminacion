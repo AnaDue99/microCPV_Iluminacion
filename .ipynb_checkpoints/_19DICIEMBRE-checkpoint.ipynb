{
 "cells": [
  {
   "cell_type": "markdown",
   "id": "5f3692d3",
   "metadata": {},
   "source": [
    "# ANALISIS IRRADIANCIA OBTENIDA EN 1 DIA"
   ]
  },
  {
   "cell_type": "code",
   "execution_count": 1,
   "id": "12e2c0a0",
   "metadata": {},
   "outputs": [],
   "source": [
    "import module_Cell as cell\n",
    "import module_AoiGrids as gr\n",
    "import pandas as pd\n",
    "import matplotlib.pyplot as plt\n",
    "import numpy as np\n",
    "from pvlib import location\n",
    "from pvlib import irradiance"
   ]
  },
  {
   "cell_type": "markdown",
   "id": "bca65c36",
   "metadata": {},
   "source": [
    "Definimos como diccionarios los valores útiles del modulo y de las caracteristicas del lugar a estudiar. Tomamos un radio algo mayor que el spot, que en AOI=0 el spot es de radio aproximado 1mm"
   ]
  },
  {
   "cell_type": "code",
   "execution_count": 2,
   "id": "893fff69",
   "metadata": {},
   "outputs": [],
   "source": [
    "caracteristics_module={    \n",
    "    'tilt':0,\n",
    "    'surface_azimuth':180,\n",
    "    'radius':1.2 \n",
    "    }\n",
    "\n",
    "caracteristics={\n",
    "    'lat':40.405655,\n",
    "    'lon':-3.647649,\n",
    "    'tz':'Etc/GMT-2',\n",
    "    'date':'21-06-2020',\n",
    "    }"
   ]
  },
  {
   "cell_type": "markdown",
   "id": "f2923bad",
   "metadata": {},
   "source": [
    "Trabajando con la librería pvlib obtenemos los datos para esta localización de la posición solar"
   ]
  },
  {
   "cell_type": "code",
   "execution_count": 3,
   "id": "3d51f7bd",
   "metadata": {},
   "outputs": [],
   "source": [
    "site = location.Location(caracteristics['lat'], \n",
    "                         caracteristics['lon'],\n",
    "                        caracteristics['tz'])\n",
    "                                                      \n",
    "times = pd.date_range(caracteristics['date'], freq='10min', periods=6*24,\n",
    "                      tz=site.tz)\n",
    "clearsky = site.get_clearsky(times)\n",
    "solar_position = site.get_solarposition(times)"
   ]
  },
  {
   "cell_type": "markdown",
   "id": "254498cc",
   "metadata": {},
   "source": [
    "A partir de estos datos podemos obtener la distribución de irradiancias y el aoi a lo largo del día. "
   ]
  },
  {
   "cell_type": "code",
   "execution_count": 4,
   "id": "92baa4c0",
   "metadata": {},
   "outputs": [],
   "source": [
    "total_irrad=irradiance.get_total_irradiance( \n",
    "    surface_tilt=caracteristics_module['tilt'],\n",
    "    surface_azimuth=caracteristics_module['surface_azimuth'],\n",
    "    dni=clearsky['dni'],\n",
    "    ghi=clearsky['ghi'],\n",
    "    dhi=clearsky['dhi'],\n",
    "    solar_zenith=solar_position['apparent_zenith'],\n",
    "    solar_azimuth=solar_position['azimuth'])"
   ]
  },
  {
   "cell_type": "code",
   "execution_count": 5,
   "id": "6fc89a0c",
   "metadata": {},
   "outputs": [],
   "source": [
    "AOI=irradiance.aoi( caracteristics_module['tilt'],\n",
    "                   caracteristics_module['surface_azimuth'],\n",
    "                   solar_position['apparent_zenith'], \n",
    "                   solar_position['azimuth'])"
   ]
  },
  {
   "cell_type": "markdown",
   "id": "a4c7ec25",
   "metadata": {},
   "source": [
    "Para seguir los convenios elegidos, el AOI se decide pasar a negativo los valores mayores a 90º y se relaciona con el indice de tiempos. "
   ]
  },
  {
   "cell_type": "code",
   "execution_count": 6,
   "id": "8412c5b7",
   "metadata": {},
   "outputs": [],
   "source": [
    "AOI=gr.transform_aoi(AOI)\n",
    "AOI.index = AOI.index.strftime(\"%H:%M\")"
   ]
  },
  {
   "cell_type": "markdown",
   "id": "9fd02ba3",
   "metadata": {},
   "source": [
    "## OBTENCIÓN ILUMINACIÓN 1 DÍA CON LA CÉLULA SIN MOVER"
   ]
  },
  {
   "cell_type": "markdown",
   "id": "ab3cb293",
   "metadata": {},
   "source": [
    "Definimos la célula en un punto fijo durante todo el día. Por comodidad tomamos el 0,0. Se opta por una celula circular, podría usarse también una celula rectangular: rectangular_cell(l1,l2,desx,desy,precision=0.04)"
   ]
  },
  {
   "cell_type": "code",
   "execution_count": 7,
   "id": "819ee539",
   "metadata": {},
   "outputs": [],
   "source": [
    "cell_grid=cell.circular_cell(caracteristics_module['radius'], 0, 0)"
   ]
  },
  {
   "cell_type": "markdown",
   "id": "5653964e",
   "metadata": {},
   "source": [
    "Calculamos el valor de la irradiancia total que atraviesa la célula. Primero la definimos copiando el AOI para que sea una matriz serie de iguales dimensiones y también indice de tiempos."
   ]
  },
  {
   "cell_type": "markdown",
   "id": "a6176269",
   "metadata": {},
   "source": [
    "Para cada indice de tiempo: \n",
    "1. Guardamos en spot la matriz de distirbución de irradiación que tenemos como datos (csv)\n",
    "2. Aplicamos intersección entre esta matriz y anterior y la matriz conformada por la celula.\n",
    "    2.1 Los tramos de intersección, será irradiancia utilizada para electricidad\n",
    "    2.2 Los tramos de no intersección, será irradiancia utilizada para iluminación <- LA QUE ESTAMOS ESTUDIANDO\n",
    "3. Sumando la matriz obtenida de los tramos de no intersección  ????????\n",
    "4. Multiplicamos esta matriz por la irradiación directa total que obtenemos para ese tiempo y además sumamos toda la irradiación difusa. \n"
   ]
  },
  {
   "cell_type": "code",
   "execution_count": 8,
   "id": "c70af2d5",
   "metadata": {},
   "outputs": [],
   "source": [
    "irradiance=AOI\n",
    "\n",
    "\n",
    "for i in range(len(times)):#Para quitarnos los que hay 0 irradiación\n",
    "    \n",
    "    spot=gr.spot_grid(AOI[i])\n",
    "    area_illum,area_elect=cell.areas_intersection(spot,cell_grid)\n",
    "    irradiance[i]=area_illum.sum()*total_irrad['poa_direct'][i]+total_irrad['poa_diffuse'][i]  \n"
   ]
  },
  {
   "cell_type": "markdown",
   "id": "0a62ecd5",
   "metadata": {},
   "source": [
    "Dibujamos la distribución obtenida. \n",
    "En verde: irradiancia directa total\n",
    "En naranja: irradiancia difusa\n",
    "En azul: irradiancia obtenida para la iluminación que pasa a través de la célula"
   ]
  },
  {
   "cell_type": "code",
   "execution_count": 9,
   "id": "6c321bd8",
   "metadata": {},
   "outputs": [
    {
     "data": {
      "image/png": "[encoded data removed]",
      "text/plain": [
       "<Figure size 432x288 with 1 Axes>"
      ]
     },
     "metadata": {
      "needs_background": "light"
     },
     "output_type": "display_data"
    }
   ],
   "source": [
    "plt.plot(times,irradiance,label='Irradiancia para electricidad')\n",
    "plt.plot(times,total_irrad['poa_diffuse'],label='difusa')\n",
    "plt.plot(times,total_irrad['poa_direct'],label='directa')\n",
    "\n",
    "\n",
    "plt.legend(loc=(0.5, 0))\n",
    "plt.xlabel('Hora del día')\n",
    "plt.ylabel('Irradiance [W/m2]')\n",
    "plt.title(\"Muesta irradiancias a lo largo del día\")\n",
    "\n",
    "plt.show()"
   ]
  },
  {
   "cell_type": "markdown",
   "id": "b9997e27",
   "metadata": {},
   "source": [
    "## OBTENCIÓN ILUMINACIÓN 1 DÍA CON LA CÉLULA MOVIENDOSE. OBJETIVO IRRADIANCIA PARA ILUMINACIÓN CONSTANTE\n"
   ]
  },
  {
   "cell_type": "markdown",
   "id": "6e9f73d5",
   "metadata": {},
   "source": [
    "Definimos la célula pero no en un punto fijo durante todo el día. El objetivo va a ser dejar a 200W/m2 la irradiancia desde las 11 hasta las 17.30 (i=66. i=106)\n",
    "\n",
    "Se opta por una celula circular, podría usarse también una celula rectangular. Copiamos el valor de AOI para que sea una serie de igual dimensiones y con el indice de tiempos. Lo mismo con irradiance"
   ]
  },
  {
   "cell_type": "code",
   "execution_count": 10,
   "id": "898b0631",
   "metadata": {},
   "outputs": [],
   "source": [
    "dx=0\n",
    "dy=0\n",
    "irradiance_2=irradiance"
   ]
  },
  {
   "cell_type": "code",
   "execution_count": 17,
   "id": "5e40c4f9",
   "metadata": {
    "scrolled": true
   },
   "outputs": [
    {
     "name": "stdout",
     "output_type": "stream",
     "text": [
      "0.0 0 2020-06-21 00:00:00+02:00 0 3\n",
      "0.0 1 2020-06-21 00:10:00+02:00 0 3\n",
      "0.0 2 2020-06-21 00:20:00+02:00 0 3\n",
      "0.0 3 2020-06-21 00:30:00+02:00 0 3\n",
      "0.0 4 2020-06-21 00:40:00+02:00 0 3\n",
      "0.0 5 2020-06-21 00:50:00+02:00 0 3\n",
      "0.0 6 2020-06-21 01:00:00+02:00 0 3\n",
      "0.0 7 2020-06-21 01:10:00+02:00 0 3\n",
      "0.0 8 2020-06-21 01:20:00+02:00 0 3\n",
      "0.0 9 2020-06-21 01:30:00+02:00 0 3\n",
      "0.0 10 2020-06-21 01:40:00+02:00 0 3\n",
      "0.0 11 2020-06-21 01:50:00+02:00 0 3\n",
      "0.0 12 2020-06-21 02:00:00+02:00 0 3\n",
      "0.0 13 2020-06-21 02:10:00+02:00 0 3\n",
      "0.0 14 2020-06-21 02:20:00+02:00 0 3\n",
      "0.0 15 2020-06-21 02:30:00+02:00 0 3\n",
      "0.0 16 2020-06-21 02:40:00+02:00 0 3\n",
      "0.0 17 2020-06-21 02:50:00+02:00 0 3\n",
      "0.0 18 2020-06-21 03:00:00+02:00 0 3\n",
      "0.0 19 2020-06-21 03:10:00+02:00 0 3\n",
      "0.0 20 2020-06-21 03:20:00+02:00 0 3\n",
      "0.0 21 2020-06-21 03:30:00+02:00 0 3\n",
      "0.0 22 2020-06-21 03:40:00+02:00 0 3\n",
      "0.0 23 2020-06-21 03:50:00+02:00 0 3\n",
      "0.0 24 2020-06-21 04:00:00+02:00 0 3\n",
      "0.0 25 2020-06-21 04:10:00+02:00 0 3\n",
      "0.0 26 2020-06-21 04:20:00+02:00 0 3\n",
      "0.0 27 2020-06-21 04:30:00+02:00 0 3\n",
      "0.0 28 2020-06-21 04:40:00+02:00 0 3\n",
      "0.0 29 2020-06-21 04:50:00+02:00 0 3\n",
      "0.0 30 2020-06-21 05:00:00+02:00 0 3\n",
      "0.0 31 2020-06-21 05:10:00+02:00 0 3\n",
      "0.0 32 2020-06-21 05:20:00+02:00 0 3\n",
      "0.0 33 2020-06-21 05:30:00+02:00 0 3\n",
      "0.0 34 2020-06-21 05:40:00+02:00 0 3\n",
      "0.0 35 2020-06-21 05:50:00+02:00 0 3\n",
      "0.0 36 2020-06-21 06:00:00+02:00 0 3\n",
      "0.0 37 2020-06-21 06:10:00+02:00 0 3\n",
      "0.0 38 2020-06-21 06:20:00+02:00 0 3\n",
      "0.0 39 2020-06-21 06:30:00+02:00 0 3\n",
      "0.0 40 2020-06-21 06:40:00+02:00 0 3\n",
      "0.08461133717908356 41 2020-06-21 06:50:00+02:00 0 3\n",
      "1.8396526286008097 42 2020-06-21 07:00:00+02:00 0 3\n",
      "7.668359303656927 43 2020-06-21 07:10:00+02:00 0 3\n",
      "15.94850005599427 44 2020-06-21 07:20:00+02:00 0 3\n",
      "25.033041323571535 45 2020-06-21 07:30:00+02:00 0 3\n",
      "34.94552296564722 46 2020-06-21 07:40:00+02:00 0 3\n",
      "49.75951419164045 47 2020-06-21 07:50:00+02:00 0 3\n",
      "51.15694778697444 48 2020-06-21 08:00:00+02:00 0 3\n",
      "58.42721078496051 49 2020-06-21 08:10:00+02:00 0 3\n",
      "65.01055036488694 50 2020-06-21 08:20:00+02:00 0 3\n",
      "70.98809012674718 51 2020-06-21 08:30:00+02:00 0 3\n",
      "76.43908587108078 52 2020-06-21 08:40:00+02:00 0 3\n",
      "81.43427385805319 53 2020-06-21 08:50:00+02:00 0 3\n",
      "86.03426270770512 54 2020-06-21 09:00:00+02:00 0 3\n",
      "90.28995827895969 55 2020-06-21 09:10:00+02:00 0 3\n",
      "94.24370418728068 56 2020-06-21 09:20:00+02:00 0 3\n",
      "97.9305670636669 57 2020-06-21 09:30:00+02:00 0 3\n",
      "101.37954256469072 58 2020-06-21 09:40:00+02:00 0 3\n",
      "104.61460592692026 59 2020-06-21 09:50:00+02:00 0 3\n",
      "107.65559539296908 60 2020-06-21 10:00:00+02:00 0 3\n",
      "110.51894213660034 61 2020-06-21 10:10:00+02:00 0 3\n",
      "113.21826814611381 62 2020-06-21 10:20:00+02:00 0 3\n",
      "115.76487539774325 63 2020-06-21 10:30:00+02:00 0 3\n",
      "118.16814367654257 64 2020-06-21 10:40:00+02:00 0 3\n",
      "120.43585766648982 65 2020-06-21 10:50:00+02:00 0 3\n",
      "122.57447453675968 66 2020-06-21 11:00:00+02:00 0 3\n",
      "124.58934444105773 67 2020-06-21 11:10:00+02:00 0 3\n",
      "126.4848928037087 68 2020-06-21 11:20:00+02:00 0 3\n",
      "128.26477162982496 69 2020-06-21 11:30:00+02:00 0 3\n",
      "129.93198561130055 70 2020-06-21 11:40:00+02:00 0 3\n",
      "131.4889975333249 71 2020-06-21 11:50:00+02:00 0 3\n",
      "132.93781727403564 72 2020-06-21 12:00:00+02:00 0 3\n",
      "134.28007579778728 73 2020-06-21 12:10:00+02:00 0 3\n",
      "135.51708859728274 74 2020-06-21 12:20:00+02:00 0 3\n",
      "136.64990890664217 75 2020-06-21 12:30:00+02:00 0 3\n",
      "137.67937286608822 76 2020-06-21 12:40:00+02:00 0 3\n",
      "138.60613777775825 77 2020-06-21 12:50:00+02:00 0 3\n",
      "139.43071446934266 78 2020-06-21 13:00:00+02:00 0 3\n",
      "140.15349460185962 79 2020-06-21 13:10:00+02:00 0 3\n",
      "140.7747735822278 80 2020-06-21 13:20:00+02:00 0 3\n",
      "141.2947699186982 81 2020-06-21 13:30:00+02:00 0 3\n",
      "141.71364093877537 82 2020-06-21 13:40:00+02:00 0 3\n",
      "142.03149616221754 83 2020-06-21 13:50:00+02:00 0 3\n",
      "142.24840803999962 84 2020-06-21 14:00:00+02:00 0 3\n",
      "142.36442048211097 85 2020-06-21 14:10:00+02:00 0 3\n",
      "142.37955502214004 86 2020-06-21 14:20:00+02:00 0 3\n",
      "142.29381429177522 87 2020-06-21 14:30:00+02:00 0 3\n",
      "142.10718248520845 88 2020-06-21 14:40:00+02:00 0 3\n",
      "141.81962278438994 89 2020-06-21 14:50:00+02:00 0 3\n",
      "141.43107187724274 90 2020-06-21 15:00:00+02:00 0 3\n",
      "140.94143222998446 91 2020-06-21 15:10:00+02:00 0 3\n",
      "140.35056191434626 92 2020-06-21 15:20:00+02:00 0 3\n",
      "139.65826217748315 93 2020-06-21 15:30:00+02:00 0 3\n",
      "138.8642623478271 94 2020-06-21 15:40:00+02:00 0 3\n",
      "137.9682016598565 95 2020-06-21 15:50:00+02:00 0 3\n",
      "136.96960748641493 96 2020-06-21 16:00:00+02:00 0 3\n",
      "135.86786940466584 97 2020-06-21 16:10:00+02:00 0 3\n",
      "134.66220851159437 98 2020-06-21 16:20:00+02:00 0 3\n",
      "133.35164069982773 99 2020-06-21 16:30:00+02:00 0 3\n",
      "131.93493416592742 100 2020-06-21 16:40:00+02:00 0 3\n",
      "130.41055836175588 101 2020-06-21 16:50:00+02:00 0 3\n",
      "128.77662413886333 102 2020-06-21 17:00:00+02:00 0 3\n",
      "127.03081282712219 103 2020-06-21 17:10:00+02:00 0 3\n",
      "125.17029210676299 104 2020-06-21 17:20:00+02:00 0 3\n",
      "123.19161591355646 105 2020-06-21 17:30:00+02:00 0 3\n",
      "121.090604933642 106 2020-06-21 17:40:00+02:00 0 3\n",
      "118.86220353575209 107 2020-06-21 17:50:00+02:00 0 3\n",
      "116.50030683243307 108 2020-06-21 18:00:00+02:00 0 3\n",
      "113.99755336794124 109 2020-06-21 18:10:00+02:00 0 3\n",
      "111.34507197287928 110 2020-06-21 18:20:00+02:00 0 3\n",
      "108.53217440890984 111 2020-06-21 18:30:00+02:00 0 3\n",
      "105.54597979932089 112 2020-06-21 18:40:00+02:00 0 3\n",
      "102.37095491180838 113 2020-06-21 18:50:00+02:00 0 3\n",
      "98.9883511240946 114 2020-06-21 19:00:00+02:00 0 3\n",
      "95.37551628807597 115 2020-06-21 19:10:00+02:00 0 3\n",
      "91.50505942886693 116 2020-06-21 19:20:00+02:00 0 3\n",
      "87.34384943339089 117 2020-06-21 19:30:00+02:00 0 3\n",
      "82.85185296741437 118 2020-06-21 19:40:00+02:00 0 3\n",
      "77.98085688901386 119 2020-06-21 19:50:00+02:00 0 3\n",
      "72.67324646417941 120 2020-06-21 20:00:00+02:00 0 3\n",
      "66.86127196973206 121 2020-06-21 20:10:00+02:00 0 3\n",
      "60.4678347709999 122 2020-06-21 20:20:00+02:00 0 3\n",
      "62.16862655834549 123 2020-06-21 20:30:00+02:00 0 3\n",
      "52.3642415174307 124 2020-06-21 20:40:00+02:00 0 3\n",
      "37.632196428867076 125 2020-06-21 20:50:00+02:00 0 3\n",
      "27.947000469163324 126 2020-06-21 21:00:00+02:00 0 3\n",
      "18.82740656687632 127 2020-06-21 21:10:00+02:00 0 3\n",
      "10.209017233847078 128 2020-06-21 21:20:00+02:00 0 3\n",
      "3.1156796324279092 129 2020-06-21 21:30:00+02:00 0 3\n",
      "0.2968365737020498 130 2020-06-21 21:40:00+02:00 0 3\n",
      "0.0 131 2020-06-21 21:50:00+02:00 0 3\n",
      "0.0 132 2020-06-21 22:00:00+02:00 0 3\n",
      "0.0 133 2020-06-21 22:10:00+02:00 0 3\n",
      "0.0 134 2020-06-21 22:20:00+02:00 0 3\n",
      "0.0 135 2020-06-21 22:30:00+02:00 0 3\n",
      "0.0 136 2020-06-21 22:40:00+02:00 0 3\n",
      "0.0 137 2020-06-21 22:50:00+02:00 0 3\n",
      "0.0 138 2020-06-21 23:00:00+02:00 0 3\n",
      "0.0 139 2020-06-21 23:10:00+02:00 0 3\n",
      "0.0 140 2020-06-21 23:20:00+02:00 0 3\n",
      "0.0 141 2020-06-21 23:30:00+02:00 0 3\n",
      "0.0 142 2020-06-21 23:40:00+02:00 0 3\n",
      "0.0 143 2020-06-21 23:50:00+02:00 0 3\n"
     ]
    }
   ],
   "source": [
    "for i in range(0,len(times)):\n",
    "    if i<61 or i>111:\n",
    "        dx=0\n",
    "        dy=3\n",
    "    elif i<=75:\n",
    "        dx=0\n",
    "        dy=3\n",
    "    elif i<=85:\n",
    "        dx=0\n",
    "        dy=3\n",
    "    elif i<=95:\n",
    "        dx=0\n",
    "        dy=3\n",
    "    else:\n",
    "        dx=0\n",
    "        dy=3\n",
    "    cell_grid_2=cell.circular_cell(caracteristics_module['radius'], dx, dy)\n",
    "    spot_2=gr.spot_grid(AOI[i])\n",
    "    area_illum_2,area_elect_2=cell.areas_intersection(spot_2,cell_grid_2)\n",
    "    irradiance_2[i]=area_illum_2.sum()*total_irrad['poa_direct'][i]+total_irrad['poa_diffuse'][i]  \n",
    "    print(irradiance_2[i],i,times[i],dx,dy)"
   ]
  },
  {
   "cell_type": "code",
   "execution_count": 18,
   "id": "96741514",
   "metadata": {
    "scrolled": false
   },
   "outputs": [
    {
     "data": {
      "image/png": "[encoded data removed]",
      "text/plain": [
       "<Figure size 432x288 with 1 Axes>"
      ]
     },
     "metadata": {
      "needs_background": "light"
     },
     "output_type": "display_data"
    }
   ],
   "source": [
    "plt.plot(times,irradiance_2,label='Irradiancia para electricidad')\n",
    "plt.plot(times,total_irrad['poa_diffuse'],label='difusa')\n",
    "plt.plot(times,total_irrad['poa_direct'],label='directa')\n",
    "\n",
    "\n",
    "plt.legend(loc=(0.5, 0))\n",
    "plt.xlabel('Hora del día')\n",
    "plt.ylabel('Irradiance [W/m2]')\n",
    "plt.title(\"Muesta irradiancias a lo largo del día\")\n",
    "\n",
    "plt.show()"
   ]
  },
  {
   "cell_type": "code",
   "execution_count": 23,
   "id": "24345f17",
   "metadata": {},
   "outputs": [
    {
     "ename": "IndexError",
     "evalue": "index 500 is out of bounds for axis 0 with size 251",
     "output_type": "error",
     "traceback": [
      "\u001b[1;31m---------------------------------------------------------------------------\u001b[0m",
      "\u001b[1;31mIndexError\u001b[0m                                Traceback (most recent call last)",
      "\u001b[1;32m~\\AppData\\Local\\Temp/ipykernel_16084/2647859446.py\u001b[0m in \u001b[0;36m<module>\u001b[1;34m\u001b[0m\n\u001b[1;32m----> 1\u001b[1;33m \u001b[0mprint\u001b[0m\u001b[1;33m(\u001b[0m\u001b[0marea_illum_2\u001b[0m\u001b[1;33m[\u001b[0m\u001b[1;36m500\u001b[0m\u001b[1;33m]\u001b[0m\u001b[1;33m)\u001b[0m\u001b[1;33m\u001b[0m\u001b[1;33m\u001b[0m\u001b[0m\n\u001b[0m",
      "\u001b[1;31mIndexError\u001b[0m: index 500 is out of bounds for axis 0 with size 251"
     ]
    }
   ],
   "source": [
    "print(area_illum_2[500])"
   ]
  },
  {
   "cell_type": "code",
   "execution_count": null,
   "id": "368e1bd3",
   "metadata": {},
   "outputs": [],
   "source": []
  }
 ],
 "metadata": {
  "kernelspec": {
   "display_name": "Python 3 (ipykernel)",
   "language": "python",
   "name": "python3"
  },
  "language_info": {
   "codemirror_mode": {
    "name": "ipython",
    "version": 3
   },
   "file_extension": ".py",
   "mimetype": "text/x-python",
   "name": "python",
   "nbconvert_exporter": "python",
   "pygments_lexer": "ipython3",
   "version": "3.9.7"
  }
 },
 "nbformat": 4,
 "nbformat_minor": 5
}
