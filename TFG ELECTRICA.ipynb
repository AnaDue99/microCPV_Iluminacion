{
 "cells": [
  {
   "cell_type": "markdown",
   "id": "7c4bcfc8",
   "metadata": {},
   "source": [
    "# ESTUDIO CARACTERÍSTICAS  PRINCIPALES RECURSO FOTOVOLTAICO MEGAPARK SS REYES\n"
   ]
  },
  {
   "cell_type": "markdown",
   "id": "8458397b",
   "metadata": {},
   "source": [
    "En el seno de un proyecto de instalación de un sistema fotovoltaico de marquesinas solares y fotolinera se estudia las características del recurso fotovoltaico"
   ]
  },
  {
   "cell_type": "code",
   "execution_count": 43,
   "id": "b95caa57",
   "metadata": {},
   "outputs": [],
   "source": [
    "import numpy as np\n",
    "from pvlib import location\n",
    "from pvlib import irradiance\n",
    "import pandas as pd\n",
    "import matplotlib.pyplot as plt"
   ]
  },
  {
   "cell_type": "code",
   "execution_count": 44,
   "id": "7345fd9b",
   "metadata": {},
   "outputs": [],
   "source": [
    "def get_data_location(caracteristics,caracteristics_module,date):\n",
    "    site = location.Location(caracteristics['lat'], \n",
    "                             caracteristics['lon'],\n",
    "                            caracteristics['tz'])                                                      \n",
    "    times = pd.date_range(date, freq='60min', periods=24,\n",
    "                      tz=site.tz)\n",
    "    clearsky = site.get_clearsky(times)\n",
    "    solar_position = site.get_solarposition(times)\n",
    "    \n",
    "    total_irrad=irradiance.get_total_irradiance( \n",
    "    surface_tilt=caracteristics_module['tilt'],\n",
    "    surface_azimuth=caracteristics_module['surface_azimuth'],\n",
    "    dni=clearsky['dni'],\n",
    "    ghi=clearsky['ghi'],\n",
    "    dhi=clearsky['dhi'],\n",
    "    solar_zenith=solar_position['apparent_zenith'],\n",
    "    solar_azimuth=solar_position['azimuth'])\n",
    "    \n",
    "    AOI_=irradiance.aoi( caracteristics_module['tilt'],\n",
    "                   caracteristics_module['surface_azimuth'],\n",
    "                   solar_position['apparent_zenith'], \n",
    "                   solar_position['azimuth'])\n",
    "    \n",
    "    AOI= AOI_ \n",
    "    for i in range(len(AOI_)):\n",
    "        if AOI_[i]>90:\n",
    "            AOI[i]=90\n",
    "        else:\n",
    "            AOI[i]=AOI_[i]\n",
    "    \n",
    "    AOI.index = AOI.index.strftime(\"%H:%M\")\n",
    "    total_irrad.index = total_irrad.index.strftime(\"%H:%M\")\n",
    "    return pd.DataFrame({'AOI': AOI,\n",
    "                         'POA_direct': total_irrad['poa_direct'],\n",
    "                         'POA_diffuse': total_irrad['poa_diffuse'],\n",
    "                         'POA_tot':total_irrad['poa_global'],\n",
    "                         'times':times})"
   ]
  },
  {
   "cell_type": "code",
   "execution_count": 45,
   "id": "f0e5c1de",
   "metadata": {},
   "outputs": [],
   "source": [
    "caracteristics_place={\n",
    "    'lat':40.544,\n",
    "    'lon':-3.613,\n",
    "    'tz':'Europe/Madrid',\n",
    "    'date':'2021-01-21',\n",
    "    }"
   ]
  },
  {
   "cell_type": "code",
   "execution_count": 56,
   "id": "364e1cbc",
   "metadata": {},
   "outputs": [],
   "source": [
    "caracteristics_module={    \n",
    "    'tilt':40,\n",
    "    'surface_azimuth':180,\n",
    "    }"
   ]
  },
  {
   "cell_type": "markdown",
   "id": "6e37e411",
   "metadata": {},
   "source": [
    "# IRRADIANCIA 1 DÍA"
   ]
  },
  {
   "cell_type": "code",
   "execution_count": 57,
   "id": "de8483fa",
   "metadata": {
    "scrolled": true
   },
   "outputs": [],
   "source": [
    "data_location=get_data_location(caracteristics_place,caracteristics_module,caracteristics_place['date']) "
   ]
  },
  {
   "cell_type": "code",
   "execution_count": 58,
   "id": "b33978a1",
   "metadata": {},
   "outputs": [],
   "source": [
    "Irradiance=data_location['POA_tot']\n",
    "aoi=data_location['AOI']"
   ]
  },
  {
   "cell_type": "code",
   "execution_count": 59,
   "id": "b712a2e4",
   "metadata": {
    "scrolled": true
   },
   "outputs": [
    {
     "data": {
      "image/png": "[encoded data removed]",
      "text/plain": [
       "<Figure size 432x288 with 1 Axes>"
      ]
     },
     "metadata": {
      "needs_background": "light"
     },
     "output_type": "display_data"
    }
   ],
   "source": [
    "Irradiance.plot()\n",
    "plt.xlabel('horas del día')\n",
    "plt.ylabel('W/m2 irradiancia')\n",
    "plt.title(\"Muesta irradiancia para el \"+ caracteristics_place['date'])\n",
    "\n",
    "plt.show()"
   ]
  },
  {
   "cell_type": "code",
   "execution_count": 60,
   "id": "c5ce21e1",
   "metadata": {},
   "outputs": [
    {
     "data": {
      "image/png": "[encoded data removed]",
      "text/plain": [
       "<Figure size 432x288 with 1 Axes>"
      ]
     },
     "metadata": {
      "needs_background": "light"
     },
     "output_type": "display_data"
    }
   ],
   "source": [
    "aoi.plot()\n",
    "plt.xlabel('horas del día')\n",
    "plt.ylabel('º aoi')\n",
    "plt.title(\"Angulo de incidencia para el \"+ caracteristics_place['date'])\n",
    "\n",
    "plt.show()"
   ]
  },
  {
   "cell_type": "markdown",
   "id": "d084c851",
   "metadata": {},
   "source": [
    "# IRRADIANCIA MÁXIMA A LO LARGO DEL AÑO"
   ]
  },
  {
   "cell_type": "code",
   "execution_count": 61,
   "id": "fbd208d1",
   "metadata": {
    "scrolled": true
   },
   "outputs": [],
   "source": [
    "date=np.array('2021-01-01', dtype=np.datetime64)\n",
    "date= date + np.arange(365)"
   ]
  },
  {
   "cell_type": "code",
   "execution_count": 62,
   "id": "573b7bb8",
   "metadata": {},
   "outputs": [],
   "source": [
    "aoi_=[]\n",
    "irradiance_=[]\n",
    "Index=[]\n",
    "hsp=[]\n",
    "for day in date:\n",
    "    data_location=get_data_location(caracteristics_place,caracteristics_module,day) \n",
    "    hsp.append(data_location['POA_tot'].sum()/1000)\n",
    "    for i in range(len(data_location['AOI'])):\n",
    "        aoi_.append(data_location['AOI'][i])\n",
    "        irradiance_.append(data_location['POA_tot'][i])\n",
    "        Index.append(data_location['times'][i])\n",
    "    \n",
    "aoi=pd.Series(aoi_)\n",
    "Irradiance=pd.Series(irradiance_)\n",
    "aoi.index=Index\n",
    "Irradiance.index=Index"
   ]
  },
  {
   "cell_type": "markdown",
   "id": "637f9bc5",
   "metadata": {},
   "source": [
    "Estudio horas sol pico cada mes"
   ]
  },
  {
   "cell_type": "code",
   "execution_count": 63,
   "id": "a61186e0",
   "metadata": {},
   "outputs": [
    {
     "name": "stdout",
     "output_type": "stream",
     "text": [
      "Media HSP en enero: 4.912616794204728\n",
      "Media HSP en febrero: 5.930386375569241\n",
      "Media HSP en marzo: 7.018434612833127\n",
      "Media HSP en abril: 7.325077695565274\n",
      "Media HSP en mayo: 7.257682371582324\n",
      "Media HSP en junio: 7.077711851862201\n",
      "Media HSP en julio: 7.066519337408715\n",
      "Media HSP en agosto: 6.919938354449642\n",
      "Media HSP en septiembre: 6.59193598129562\n",
      "Media HSP en octubre: 5.801061927040392\n",
      "Media HSP en noviembre: 4.847038244030062\n",
      "Media HSP en diciembre: 4.527387674301893\n"
     ]
    }
   ],
   "source": [
    "enero=[]\n",
    "febrero=[]\n",
    "marzo=[]\n",
    "abril=[]\n",
    "mayo=[]\n",
    "junio=[]\n",
    "julio=[]\n",
    "agosto=[]\n",
    "septiembre=[]\n",
    "octubre=[]\n",
    "noviembre=[]\n",
    "diciembre=[]\n",
    "for i in range(len(hsp)):\n",
    "    if i<31:\n",
    "        enero.append(hsp[i])\n",
    "    elif i<59:\n",
    "        febrero.append(hsp[i])    \n",
    "    elif i<90:\n",
    "        marzo.append(hsp[i])\n",
    "    elif i<120:\n",
    "        abril.append(hsp[i])\n",
    "    elif i<151:\n",
    "        mayo.append(hsp[i])\n",
    "    elif i<181:\n",
    "        junio.append(hsp[i])\n",
    "    elif i<212:\n",
    "        julio.append(hsp[i])\n",
    "    elif i<243:\n",
    "        agosto.append(hsp[i])\n",
    "    elif i<273:\n",
    "        septiembre.append(hsp[i])\n",
    "    elif i<304:\n",
    "        octubre.append(hsp[i])\n",
    "    elif i<334:\n",
    "        noviembre.append(hsp[i])\n",
    "    else:\n",
    "        diciembre.append(hsp[i])\n",
    "\n",
    "print(\"Media HSP en enero: \"+ str(sum(enero)/31))\n",
    "print(\"Media HSP en febrero: \"+ str(sum(febrero)/28))\n",
    "print(\"Media HSP en marzo: \"+ str(sum(marzo)/31))\n",
    "print(\"Media HSP en abril: \"+ str(sum(abril)/30))\n",
    "print(\"Media HSP en mayo: \"+ str(sum(mayo)/31))\n",
    "print(\"Media HSP en junio: \"+ str(sum(junio)/30))\n",
    "print(\"Media HSP en julio: \"+ str(sum(julio)/31))\n",
    "print(\"Media HSP en agosto: \"+ str(sum(agosto)/31))\n",
    "print(\"Media HSP en septiembre: \"+ str(sum(septiembre)/30))\n",
    "print(\"Media HSP en octubre: \"+ str(sum(octubre)/31))\n",
    "print(\"Media HSP en noviembre: \"+ str(sum(noviembre)/30))\n",
    "print(\"Media HSP en diciembre: \"+ str(sum(diciembre)/31))\n"
   ]
  },
  {
   "cell_type": "code",
   "execution_count": 64,
   "id": "a5257ea1",
   "metadata": {
    "scrolled": true
   },
   "outputs": [
    {
     "data": {
      "image/png": "[encoded data removed]",
      "text/plain": [
       "<Figure size 432x288 with 1 Axes>"
      ]
     },
     "metadata": {
      "needs_background": "light"
     },
     "output_type": "display_data"
    }
   ],
   "source": [
    "aoi.plot()\n",
    "plt.xlabel('días del año')\n",
    "plt.ylabel('ángulo de incidencia')\n",
    "plt.title(\"Muesta ángulo de incidencia a lo largo de 1 año en MEGAPARK SS Reyes\")\n",
    "plt.show()"
   ]
  },
  {
   "cell_type": "code",
   "execution_count": 65,
   "id": "030809de",
   "metadata": {},
   "outputs": [
    {
     "data": {
      "image/png": "[encoded data removed]",
      "text/plain": [
       "<Figure size 432x288 with 1 Axes>"
      ]
     },
     "metadata": {
      "needs_background": "light"
     },
     "output_type": "display_data"
    }
   ],
   "source": [
    "Irradiance.plot()\n",
    "plt.xlabel('días del año')\n",
    "plt.ylabel('Irradiación en W/m2')\n",
    "plt.title(\"Muesta irradiación a lo largo de 1 año en MEGAPARK SS Reyes\")\n",
    "plt.show()"
   ]
  }
 ],
 "metadata": {
  "kernelspec": {
   "display_name": "Python 3 (ipykernel)",
   "language": "python",
   "name": "python3"
  },
  "language_info": {
   "codemirror_mode": {
    "name": "ipython",
    "version": 3
   },
   "file_extension": ".py",
   "mimetype": "text/x-python",
   "name": "python",
   "nbconvert_exporter": "python",
   "pygments_lexer": "ipython3",
   "version": "3.9.7"
  }
 },
 "nbformat": 4,
 "nbformat_minor": 5
}
