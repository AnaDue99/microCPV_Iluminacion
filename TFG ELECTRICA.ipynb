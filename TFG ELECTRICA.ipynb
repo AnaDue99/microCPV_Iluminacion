{
 "cells": [
  {
   "cell_type": "markdown",
   "id": "7c4bcfc8",
   "metadata": {},
   "source": [
    "# ESTUDIO CARACTERÍSTICAS  PRINCIPALES RECURSO FOTOVOLTAICO MEGAPARK SS REYES\n"
   ]
  },
  {
   "cell_type": "markdown",
   "id": "8458397b",
   "metadata": {},
   "source": [
    "En el seno de un proyecto de instalación de un sistema fotovoltaico de marquesinas solares y fotolinera se estudia las características del recurso fotovoltaico."
   ]
  },
  {
   "cell_type": "markdown",
   "id": "5a6f20c3",
   "metadata": {},
   "source": [
    "Primero se importan las librearias a utilizar"
   ]
  },
  {
   "cell_type": "code",
   "execution_count": 24,
   "id": "b95caa57",
   "metadata": {},
   "outputs": [],
   "source": [
    "import numpy as np\n",
    "from pvlib import location\n",
    "from pvlib import irradiance\n",
    "import pandas as pd\n",
    "import matplotlib.pyplot as plt"
   ]
  },
  {
   "cell_type": "markdown",
   "id": "db0467b9",
   "metadata": {},
   "source": [
    "Se define una función para obtener las características de la irradiación para un lugar y módulo"
   ]
  },
  {
   "cell_type": "code",
   "execution_count": 25,
   "id": "67cb6ab9",
   "metadata": {},
   "outputs": [],
   "source": [
    "def get_data_location(caracteristics,caracteristics_module,date):\n",
    "    site = location.Location(caracteristics['lat'], \n",
    "                             caracteristics['lon'],\n",
    "                            caracteristics['tz'])                                                      \n",
    "    times = pd.date_range(date, freq='60min', periods=24,\n",
    "                      tz=site.tz)\n",
    "    clearsky = site.get_clearsky(times)\n",
    "    solar_position = site.get_solarposition(times)\n",
    "    \n",
    "    \n",
    "    total_irrad=irradiance.get_total_irradiance( \n",
    "    surface_tilt=caracteristics_module['tilt'],\n",
    "    surface_azimuth=caracteristics_module['surface_azimuth'],\n",
    "    dni=clearsky['dni'],\n",
    "    ghi=clearsky['ghi'],\n",
    "    dhi=clearsky['dhi'],\n",
    "    solar_zenith=solar_position['apparent_zenith'],\n",
    "    solar_azimuth=solar_position['azimuth'])\n",
    "    \n",
    "    \n",
    "    AOI_=irradiance.aoi( caracteristics_module['tilt'],\n",
    "                   caracteristics_module['surface_azimuth'],\n",
    "                   solar_position['apparent_zenith'], \n",
    "                   solar_position['azimuth'])\n",
    "    \n",
    "    AOI= AOI_ \n",
    "    for i in range(len(AOI_)):\n",
    "        if AOI_[i]>90:\n",
    "            AOI[i]=90\n",
    "        else:\n",
    "            AOI[i]=AOI_[i]\n",
    "    \n",
    "    AOI.index = AOI.index.strftime(\"%H:%M\")\n",
    "    total_irrad.index = total_irrad.index.strftime(\"%H:%M\")\n",
    "    return pd.DataFrame({'AOI': AOI,\n",
    "                         'POA_direct': total_irrad['poa_direct'],\n",
    "                         'POA_diffuse': total_irrad['poa_diffuse'],\n",
    "                         'POA_tot':total_irrad['poa_global'],\n",
    "                         'times':times})"
   ]
  },
  {
   "cell_type": "markdown",
   "id": "c85ba35a",
   "metadata": {},
   "source": [
    "Se definen las características del lugar y del módulo"
   ]
  },
  {
   "cell_type": "code",
   "execution_count": 26,
   "id": "f0e5c1de",
   "metadata": {},
   "outputs": [],
   "source": [
    "caracteristics_place={\n",
    "    'lat':40.544,\n",
    "    'lon':-3.613,\n",
    "    'tz':'Europe/Madrid',\n",
    "    'date':'2021-01-21',\n",
    "    }"
   ]
  },
  {
   "cell_type": "code",
   "execution_count": 27,
   "id": "364e1cbc",
   "metadata": {},
   "outputs": [],
   "source": [
    "caracteristics_module_40={    \n",
    "    'tilt':30,\n",
    "    'surface_azimuth':180,\n",
    "    }\n",
    "\n",
    "\n",
    "caracteristics_module_0={    \n",
    "    'tilt':40,\n",
    "    'surface_azimuth':180,\n",
    "    }\n",
    "\n",
    "\n",
    "\n"
   ]
  },
  {
   "cell_type": "markdown",
   "id": "d084c851",
   "metadata": {},
   "source": [
    "# IRRADIANCIA MÁXIMA A LO LARGO DEL AÑO"
   ]
  },
  {
   "cell_type": "markdown",
   "id": "5cdfd59a",
   "metadata": {},
   "source": [
    "Se define un vector de todas las fechas del año"
   ]
  },
  {
   "cell_type": "code",
   "execution_count": 28,
   "id": "fbd208d1",
   "metadata": {
    "scrolled": true
   },
   "outputs": [],
   "source": [
    "date=np.array('2021-01-01', dtype=np.datetime64)\n",
    "date= date + np.arange(365)"
   ]
  },
  {
   "cell_type": "markdown",
   "id": "aae6141b",
   "metadata": {},
   "source": [
    "Se obtienen los datos de irradiancia, horas sol pico y ángulo de incidencia para las horas del día de todo el año. "
   ]
  },
  {
   "cell_type": "code",
   "execution_count": 29,
   "id": "573b7bb8",
   "metadata": {},
   "outputs": [],
   "source": [
    "def data_irrad(caracteristics_place,caracteristics_module,date):\n",
    "    aoi_=[]\n",
    "    irradiance_=[]\n",
    "    Index=[]\n",
    "    hsp_=[]\n",
    "    for day in date:\n",
    "        data_location=get_data_location(caracteristics_place,caracteristics_module,day) \n",
    "        hsp_.append(data_location['POA_tot'].sum()/1000)\n",
    "        for i in range(len(data_location['AOI'])):\n",
    "            aoi_.append(data_location['AOI'][i])\n",
    "            irradiance_.append(data_location['POA_tot'][i])\n",
    "            Index.append(data_location['times'][i])\n",
    "\n",
    "    aoi=pd.Series(aoi_)\n",
    "    Irradiance=pd.Series(irradiance_)\n",
    "    aoi.index=Index\n",
    "    Irradiance.index=Index\n",
    "    hsp=pd.Series(hsp_)\n",
    "    pd.index=Index\n",
    "    \n",
    "    return aoi,Irradiance,hsp"
   ]
  },
  {
   "cell_type": "code",
   "execution_count": 30,
   "id": "13f36a95",
   "metadata": {},
   "outputs": [],
   "source": [
    "aoi_40,Irradiance_40,hsp_40=data_irrad(caracteristics_place,caracteristics_module_40,date)\n",
    "aoi_0,Irradiance_0,hsp_0=data_irrad(caracteristics_place,caracteristics_module_0,date)"
   ]
  },
  {
   "cell_type": "markdown",
   "id": "3583d38b",
   "metadata": {},
   "source": [
    "Dibujamos en froma de gráfica los datos para ángulos de incidencia y de irradiancia"
   ]
  },
  {
   "cell_type": "code",
   "execution_count": 31,
   "id": "205faf94",
   "metadata": {},
   "outputs": [
    {
     "data": {
      "image/png": "[encoded data removed]",
      "text/plain": [
       "<Figure size 432x288 with 2 Axes>"
      ]
     },
     "metadata": {
      "needs_background": "light"
     },
     "output_type": "display_data"
    }
   ],
   "source": [
    "fig, (ax1,ax2) = plt.subplots(1,2, sharey=True)\n",
    "aoi_40.plot(ax=ax1)\n",
    "aoi_0.plot(ax=ax2)\n",
    "\n",
    "\n",
    "ax1.set_xlabel('Ángulo de inclinación de 40º')\n",
    "ax2.set_xlabel('Ángulo de inclinación de 0º')\n",
    "ax1.set_ylabel('Ángulo de incidencia ($º$)')\n",
    "\n",
    "\n",
    "plt.show()"
   ]
  },
  {
   "cell_type": "code",
   "execution_count": 32,
   "id": "030809de",
   "metadata": {
    "scrolled": true
   },
   "outputs": [
    {
     "data": {
      "image/png": "[encoded data removed]",
      "text/plain": [
       "<Figure size 432x288 with 2 Axes>"
      ]
     },
     "metadata": {
      "needs_background": "light"
     },
     "output_type": "display_data"
    }
   ],
   "source": [
    "fig, (ax1,ax2) = plt.subplots(1,2, sharey=True)\n",
    "Irradiance_40.plot(ax=ax1)\n",
    "Irradiance_0.plot(ax=ax2)\n",
    "\n",
    "ax1.set_xlabel('Ángulo de inclinación de 40º')\n",
    "ax2.set_xlabel('Ángulo de inclinación de 0º')\n",
    "ax1.set_ylabel('Irradiancia total ($W/m^2$)')\n",
    "\n",
    "\n",
    "\n",
    "plt.show()"
   ]
  },
  {
   "cell_type": "markdown",
   "id": "637f9bc5",
   "metadata": {},
   "source": [
    "Para mejor comprensión, debido a la necesidad de estudio más específica de las horas sol pico se dividen los datos en meses"
   ]
  },
  {
   "cell_type": "code",
   "execution_count": 33,
   "id": "0c32fb58",
   "metadata": {},
   "outputs": [],
   "source": [
    "def hsp_mensual(hsp):\n",
    "    enero=[]\n",
    "    febrero=[]\n",
    "    marzo=[]\n",
    "    abril=[]\n",
    "    mayo=[]\n",
    "    junio=[]\n",
    "    julio=[]\n",
    "    agosto=[]\n",
    "    septiembre=[]\n",
    "    octubre=[]\n",
    "    noviembre=[]\n",
    "    diciembre=[]\n",
    "    for i in range(len(hsp)):\n",
    "        if i<31:\n",
    "            enero.append(hsp[i])\n",
    "        elif i<59:\n",
    "            febrero.append(hsp[i])    \n",
    "        elif i<90:\n",
    "            marzo.append(hsp[i])\n",
    "        elif i<120:\n",
    "            abril.append(hsp[i])\n",
    "        elif i<151:\n",
    "            mayo.append(hsp[i])\n",
    "        elif i<181:\n",
    "            junio.append(hsp[i])\n",
    "        elif i<212:\n",
    "            julio.append(hsp[i])\n",
    "        elif i<243:\n",
    "            agosto.append(hsp[i])\n",
    "        elif i<273:\n",
    "            septiembre.append(hsp[i])\n",
    "        elif i<304:\n",
    "            octubre.append(hsp[i])\n",
    "        elif i<334:\n",
    "            noviembre.append(hsp[i])\n",
    "        else:\n",
    "            diciembre.append(hsp[i])\n",
    "        \n",
    "        HSP=[sum(enero)/31,sum(febrero)/28,sum(marzo)/31,sum(abril)/30,sum(mayo)/31,sum(junio)/30,sum(julio)/31,sum(agosto)/31,sum(septiembre)/30,sum(octubre)/31,sum(noviembre)/30,sum(diciembre)/31]\n",
    "    return HSP"
   ]
  },
  {
   "cell_type": "code",
   "execution_count": 34,
   "id": "a61186e0",
   "metadata": {},
   "outputs": [],
   "source": [
    "hsp_mensual_40=hsp_mensual(hsp_40)\n",
    "hsp_mensual_0=hsp_mensual(hsp_0)"
   ]
  },
  {
   "cell_type": "code",
   "execution_count": 35,
   "id": "d23388a9",
   "metadata": {},
   "outputs": [
    {
     "name": "stdout",
     "output_type": "stream",
     "text": [
      "Media HSP en enero 4.496609118033416 para angulo de inclinacion 40º\n",
      "Media HSP en febrero 5.5829112673551915 para angulo de inclinacion 40º\n",
      "Media HSP en marzo 6.8552198492986856 para angulo de inclinacion 40º\n",
      "Media HSP en abril 7.460656744356765 para angulo de inclinacion 40º\n",
      "Media HSP en mayo 7.642825581500413 para angulo de inclinacion 40º\n",
      "Media HSP en junio 7.559375176193233 para angulo de inclinacion 40º\n",
      "Media HSP en julio 7.487101293196867 para angulo de inclinacion 40º\n",
      "Media HSP en agosto 7.1349411568630305 para angulo de inclinacion 40º\n",
      "Media HSP en septiembre 6.54978937166125 para angulo de inclinacion 40º\n",
      "Media HSP en octubre 5.547893228716892 para angulo de inclinacion 40º\n",
      "Media HSP en noviembre 4.484558209496771 para angulo de inclinacion 40º\n",
      "Media HSP en diciembre 4.106826261658489 para angulo de inclinacion 40º\n",
      "\n",
      "\n",
      "Media HSP en enero 4.912616794204728 para angulo de inclinacion 0º\n",
      "Media HSP en febrero 5.930386375569241 para angulo de inclinacion 0º\n",
      "Media HSP en marzo 7.018434612833127 para angulo de inclinacion 0º\n",
      "Media HSP en abril 7.325077695565274 para angulo de inclinacion 0º\n",
      "Media HSP en mayo 7.257682371582324 para angulo de inclinacion 0º\n",
      "Media HSP en junio 7.077711851862201 para angulo de inclinacion 0º\n",
      "Media HSP en julio 7.066519337408715 para angulo de inclinacion 0º\n",
      "Media HSP en agosto 6.919938354449642 para angulo de inclinacion 0º\n",
      "Media HSP en septiembre 6.59193598129562 para angulo de inclinacion 0º\n",
      "Media HSP en octubre 5.801061927040392 para angulo de inclinacion 0º\n",
      "Media HSP en noviembre 4.847038244030062 para angulo de inclinacion 0º\n",
      "Media HSP en diciembre 4.527387674301893 para angulo de inclinacion 0º\n"
     ]
    }
   ],
   "source": [
    "mes=['enero','febrero','marzo','abril','mayo','junio','julio','agosto','septiembre','octubre','noviembre','diciembre']\n",
    "for i in range(0,12,1):\n",
    "    print(\"Media HSP en \"+mes[i]+' '+str(hsp_mensual_40[i])+\" para angulo de inclinacion 40º\")\n",
    "print(\"\\n\")\n",
    "for i in range(0,12,1):\n",
    "    print(\"Media HSP en \"+mes[i]+' '+str(hsp_mensual_0[i])+\" para angulo de inclinacion 0º\")"
   ]
  },
  {
   "cell_type": "markdown",
   "id": "217ed1dc",
   "metadata": {},
   "source": [
    "También lo representamos de forma gráfica"
   ]
  },
  {
   "cell_type": "code",
   "execution_count": 36,
   "id": "6c491124",
   "metadata": {},
   "outputs": [
    {
     "data": {
      "image/png": "[encoded data removed]",
      "text/plain": [
       "<Figure size 432x288 with 1 Axes>"
      ]
     },
     "metadata": {
      "needs_background": "light"
     },
     "output_type": "display_data"
    }
   ],
   "source": [
    "plt.plot(mes,hsp_mensual_0,label=\"Inclinación 0º\")   \n",
    "plt.plot(mes,hsp_mensual_40,label=\"Inclinación 40º\")\n",
    "plt.xlabel('meses')\n",
    "plt.ylabel('HSP, horas sol pico')\n",
    "plt.title(\"Horas sol pico a lo largo de los meses del año\")\n",
    "plt.legend()\n",
    "plt.show()"
   ]
  }
 ],
 "metadata": {
  "kernelspec": {
   "display_name": "Python 3 (ipykernel)",
   "language": "python",
   "name": "python3"
  },
  "language_info": {
   "codemirror_mode": {
    "name": "ipython",
    "version": 3
   },
   "file_extension": ".py",
   "mimetype": "text/x-python",
   "name": "python",
   "nbconvert_exporter": "python",
   "pygments_lexer": "ipython3",
   "version": "3.9.7"
  }
 },
 "nbformat": 4,
 "nbformat_minor": 5
}
